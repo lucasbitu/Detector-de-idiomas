{
  "nbformat": 4,
  "nbformat_minor": 0,
  "metadata": {
    "colab": {
      "provenance": [],
      "collapsed_sections": [
        "Ip60XIOViq7S",
        "jPc9kpChjQGK",
        "ie8FBM-ujdhp",
        "o2lwnd70jh_i",
        "a19ZX8zNjrBZ"
      ],
      "authorship_tag": "ABX9TyNx8GSVZa6HvDT0prDIsdsO",
      "include_colab_link": true
    },
    "kernelspec": {
      "name": "python3",
      "display_name": "Python 3"
    },
    "language_info": {
      "name": "python"
    }
  },
  "cells": [
    {
      "cell_type": "markdown",
      "metadata": {
        "id": "view-in-github",
        "colab_type": "text"
      },
      "source": [
        "<a href=\"https://colab.research.google.com/github/lucasbitu/Detector-de-idiomas/blob/main/DetectorIdioma.ipynb\" target=\"_parent\"><img src=\"https://colab.research.google.com/assets/colab-badge.svg\" alt=\"Open In Colab\"/></a>"
      ]
    },
    {
      "cell_type": "markdown",
      "source": [
        "#Importação e Limpeza dos dados usando Regex#\n"
      ],
      "metadata": {
        "id": "Ip60XIOViq7S"
      }
    },
    {
      "cell_type": "code",
      "execution_count": null,
      "metadata": {
        "colab": {
          "base_uri": "https://localhost:8080/",
          "height": 337
        },
        "id": "Q7wJ44Nq9FE2",
        "outputId": "45a8275f-246e-4cbf-e3b1-5d24d027bf24"
      },
      "outputs": [
        {
          "output_type": "execute_result",
          "data": {
            "text/plain": [
              "      Id                                             Título  \\\n",
              "0   2402         Como fazer hash de senhas de forma segura?   \n",
              "1   6441  Qual é a diferença entre INNER JOIN e OUTER JOIN?   \n",
              "2    579  Por que não devemos usar funções do tipo mysql_*?   \n",
              "3   2539           As mensagens de erro devem se desculpar?   \n",
              "4  17501  Qual é a diferença de API, biblioteca e Framew...   \n",
              "\n",
              "                                             Questão  \\\n",
              "0  <p>Se eu fizer o <em><a href=\"http://pt.wikipe...   \n",
              "1  <p>Qual é a diferença entre <code>INNER JOIN</...   \n",
              "2  <p>Uma dúvida muito comum é por que devemos pa...   \n",
              "3  <p>É comum encontrar uma mensagem de erro que ...   \n",
              "4  <p>Me parecem termos muito próximos e eventual...   \n",
              "\n",
              "                                         Tags  Pontuação  Visualizações  \n",
              "0     <hash><segurança><senhas><criptografia>        350          22367  \n",
              "1                                 <sql><join>        276         176953  \n",
              "2                                <php><mysql>        226           9761  \n",
              "3           <aplicação-web><gui><console><ux>        214           5075  \n",
              "4  <api><framework><terminologia><biblioteca>        193          54191  "
            ],
            "text/html": [
              "\n",
              "  <div id=\"df-aba417f9-3e19-4a63-8100-b02802bc93db\">\n",
              "    <div class=\"colab-df-container\">\n",
              "      <div>\n",
              "<style scoped>\n",
              "    .dataframe tbody tr th:only-of-type {\n",
              "        vertical-align: middle;\n",
              "    }\n",
              "\n",
              "    .dataframe tbody tr th {\n",
              "        vertical-align: top;\n",
              "    }\n",
              "\n",
              "    .dataframe thead th {\n",
              "        text-align: right;\n",
              "    }\n",
              "</style>\n",
              "<table border=\"1\" class=\"dataframe\">\n",
              "  <thead>\n",
              "    <tr style=\"text-align: right;\">\n",
              "      <th></th>\n",
              "      <th>Id</th>\n",
              "      <th>Título</th>\n",
              "      <th>Questão</th>\n",
              "      <th>Tags</th>\n",
              "      <th>Pontuação</th>\n",
              "      <th>Visualizações</th>\n",
              "    </tr>\n",
              "  </thead>\n",
              "  <tbody>\n",
              "    <tr>\n",
              "      <th>0</th>\n",
              "      <td>2402</td>\n",
              "      <td>Como fazer hash de senhas de forma segura?</td>\n",
              "      <td>&lt;p&gt;Se eu fizer o &lt;em&gt;&lt;a href=\"http://pt.wikipe...</td>\n",
              "      <td>&lt;hash&gt;&lt;segurança&gt;&lt;senhas&gt;&lt;criptografia&gt;</td>\n",
              "      <td>350</td>\n",
              "      <td>22367</td>\n",
              "    </tr>\n",
              "    <tr>\n",
              "      <th>1</th>\n",
              "      <td>6441</td>\n",
              "      <td>Qual é a diferença entre INNER JOIN e OUTER JOIN?</td>\n",
              "      <td>&lt;p&gt;Qual é a diferença entre &lt;code&gt;INNER JOIN&lt;/...</td>\n",
              "      <td>&lt;sql&gt;&lt;join&gt;</td>\n",
              "      <td>276</td>\n",
              "      <td>176953</td>\n",
              "    </tr>\n",
              "    <tr>\n",
              "      <th>2</th>\n",
              "      <td>579</td>\n",
              "      <td>Por que não devemos usar funções do tipo mysql_*?</td>\n",
              "      <td>&lt;p&gt;Uma dúvida muito comum é por que devemos pa...</td>\n",
              "      <td>&lt;php&gt;&lt;mysql&gt;</td>\n",
              "      <td>226</td>\n",
              "      <td>9761</td>\n",
              "    </tr>\n",
              "    <tr>\n",
              "      <th>3</th>\n",
              "      <td>2539</td>\n",
              "      <td>As mensagens de erro devem se desculpar?</td>\n",
              "      <td>&lt;p&gt;É comum encontrar uma mensagem de erro que ...</td>\n",
              "      <td>&lt;aplicação-web&gt;&lt;gui&gt;&lt;console&gt;&lt;ux&gt;</td>\n",
              "      <td>214</td>\n",
              "      <td>5075</td>\n",
              "    </tr>\n",
              "    <tr>\n",
              "      <th>4</th>\n",
              "      <td>17501</td>\n",
              "      <td>Qual é a diferença de API, biblioteca e Framew...</td>\n",
              "      <td>&lt;p&gt;Me parecem termos muito próximos e eventual...</td>\n",
              "      <td>&lt;api&gt;&lt;framework&gt;&lt;terminologia&gt;&lt;biblioteca&gt;</td>\n",
              "      <td>193</td>\n",
              "      <td>54191</td>\n",
              "    </tr>\n",
              "  </tbody>\n",
              "</table>\n",
              "</div>\n",
              "      <button class=\"colab-df-convert\" onclick=\"convertToInteractive('df-aba417f9-3e19-4a63-8100-b02802bc93db')\"\n",
              "              title=\"Convert this dataframe to an interactive table.\"\n",
              "              style=\"display:none;\">\n",
              "        \n",
              "  <svg xmlns=\"http://www.w3.org/2000/svg\" height=\"24px\"viewBox=\"0 0 24 24\"\n",
              "       width=\"24px\">\n",
              "    <path d=\"M0 0h24v24H0V0z\" fill=\"none\"/>\n",
              "    <path d=\"M18.56 5.44l.94 2.06.94-2.06 2.06-.94-2.06-.94-.94-2.06-.94 2.06-2.06.94zm-11 1L8.5 8.5l.94-2.06 2.06-.94-2.06-.94L8.5 2.5l-.94 2.06-2.06.94zm10 10l.94 2.06.94-2.06 2.06-.94-2.06-.94-.94-2.06-.94 2.06-2.06.94z\"/><path d=\"M17.41 7.96l-1.37-1.37c-.4-.4-.92-.59-1.43-.59-.52 0-1.04.2-1.43.59L10.3 9.45l-7.72 7.72c-.78.78-.78 2.05 0 2.83L4 21.41c.39.39.9.59 1.41.59.51 0 1.02-.2 1.41-.59l7.78-7.78 2.81-2.81c.8-.78.8-2.07 0-2.86zM5.41 20L4 18.59l7.72-7.72 1.47 1.35L5.41 20z\"/>\n",
              "  </svg>\n",
              "      </button>\n",
              "      \n",
              "  <style>\n",
              "    .colab-df-container {\n",
              "      display:flex;\n",
              "      flex-wrap:wrap;\n",
              "      gap: 12px;\n",
              "    }\n",
              "\n",
              "    .colab-df-convert {\n",
              "      background-color: #E8F0FE;\n",
              "      border: none;\n",
              "      border-radius: 50%;\n",
              "      cursor: pointer;\n",
              "      display: none;\n",
              "      fill: #1967D2;\n",
              "      height: 32px;\n",
              "      padding: 0 0 0 0;\n",
              "      width: 32px;\n",
              "    }\n",
              "\n",
              "    .colab-df-convert:hover {\n",
              "      background-color: #E2EBFA;\n",
              "      box-shadow: 0px 1px 2px rgba(60, 64, 67, 0.3), 0px 1px 3px 1px rgba(60, 64, 67, 0.15);\n",
              "      fill: #174EA6;\n",
              "    }\n",
              "\n",
              "    [theme=dark] .colab-df-convert {\n",
              "      background-color: #3B4455;\n",
              "      fill: #D2E3FC;\n",
              "    }\n",
              "\n",
              "    [theme=dark] .colab-df-convert:hover {\n",
              "      background-color: #434B5C;\n",
              "      box-shadow: 0px 1px 3px 1px rgba(0, 0, 0, 0.15);\n",
              "      filter: drop-shadow(0px 1px 2px rgba(0, 0, 0, 0.3));\n",
              "      fill: #FFFFFF;\n",
              "    }\n",
              "  </style>\n",
              "\n",
              "      <script>\n",
              "        const buttonEl =\n",
              "          document.querySelector('#df-aba417f9-3e19-4a63-8100-b02802bc93db button.colab-df-convert');\n",
              "        buttonEl.style.display =\n",
              "          google.colab.kernel.accessAllowed ? 'block' : 'none';\n",
              "\n",
              "        async function convertToInteractive(key) {\n",
              "          const element = document.querySelector('#df-aba417f9-3e19-4a63-8100-b02802bc93db');\n",
              "          const dataTable =\n",
              "            await google.colab.kernel.invokeFunction('convertToInteractive',\n",
              "                                                     [key], {});\n",
              "          if (!dataTable) return;\n",
              "\n",
              "          const docLinkHtml = 'Like what you see? Visit the ' +\n",
              "            '<a target=\"_blank\" href=https://colab.research.google.com/notebooks/data_table.ipynb>data table notebook</a>'\n",
              "            + ' to learn more about interactive tables.';\n",
              "          element.innerHTML = '';\n",
              "          dataTable['output_type'] = 'display_data';\n",
              "          await google.colab.output.renderOutput(dataTable, element);\n",
              "          const docLink = document.createElement('div');\n",
              "          docLink.innerHTML = docLinkHtml;\n",
              "          element.appendChild(docLink);\n",
              "        }\n",
              "      </script>\n",
              "    </div>\n",
              "  </div>\n",
              "  "
            ]
          },
          "metadata": {},
          "execution_count": 171
        }
      ],
      "source": [
        "import pandas as pd\n",
        "dados_portugues = pd.read_csv(\"stackoverflow_portugues.csv\")\n",
        "dados_portugues.head()"
      ]
    },
    {
      "cell_type": "code",
      "source": [
        "dados_ingles = pd.read_csv(\"stackoverflow_ingles.csv\")\n",
        "dados_ingles.head()"
      ],
      "metadata": {
        "colab": {
          "base_uri": "https://localhost:8080/",
          "height": 337
        },
        "id": "VmzjuJb8F_ch",
        "outputId": "3c2f1b16-3fd8-44c6-e3db-615465a6637d"
      },
      "execution_count": null,
      "outputs": [
        {
          "output_type": "execute_result",
          "data": {
            "text/plain": [
              "         Id                                             Título  \\\n",
              "0  11227809  Why is it faster to process a sorted array tha...   \n",
              "1    927358  How do I undo the most recent local commits in...   \n",
              "2   2003505  How do I delete a Git branch locally and remot...   \n",
              "3    292357  What is the difference between 'git pull' and ...   \n",
              "4    477816             What is the correct JSON content type?   \n",
              "\n",
              "                                             Questão  \\\n",
              "0  <p>Here is a piece of C++ code that seems very...   \n",
              "1  <p>I accidentally committed the wrong files to...   \n",
              "2  <p>I want to delete a branch both locally and ...   \n",
              "3  <blockquote>\\n  <p><strong>Moderator Note:</st...   \n",
              "4  <p>I've been messing around with <a href=\"http...   \n",
              "\n",
              "                                                Tags  Pontuação  Visualizações  \n",
              "0  <java><c++><performance><optimization><branch-...      23057        1358574  \n",
              "1           <git><version-control><git-commit><undo>      19640        7906137  \n",
              "2                      <git><git-branch><git-remote>      15249        6940906  \n",
              "3                         <git><git-pull><git-fetch>      11008        2543052  \n",
              "4                 <json><http-headers><content-type>       9701        2478940  "
            ],
            "text/html": [
              "\n",
              "  <div id=\"df-fc181452-2b69-4ba5-8fc2-f0cedb86b947\">\n",
              "    <div class=\"colab-df-container\">\n",
              "      <div>\n",
              "<style scoped>\n",
              "    .dataframe tbody tr th:only-of-type {\n",
              "        vertical-align: middle;\n",
              "    }\n",
              "\n",
              "    .dataframe tbody tr th {\n",
              "        vertical-align: top;\n",
              "    }\n",
              "\n",
              "    .dataframe thead th {\n",
              "        text-align: right;\n",
              "    }\n",
              "</style>\n",
              "<table border=\"1\" class=\"dataframe\">\n",
              "  <thead>\n",
              "    <tr style=\"text-align: right;\">\n",
              "      <th></th>\n",
              "      <th>Id</th>\n",
              "      <th>Título</th>\n",
              "      <th>Questão</th>\n",
              "      <th>Tags</th>\n",
              "      <th>Pontuação</th>\n",
              "      <th>Visualizações</th>\n",
              "    </tr>\n",
              "  </thead>\n",
              "  <tbody>\n",
              "    <tr>\n",
              "      <th>0</th>\n",
              "      <td>11227809</td>\n",
              "      <td>Why is it faster to process a sorted array tha...</td>\n",
              "      <td>&lt;p&gt;Here is a piece of C++ code that seems very...</td>\n",
              "      <td>&lt;java&gt;&lt;c++&gt;&lt;performance&gt;&lt;optimization&gt;&lt;branch-...</td>\n",
              "      <td>23057</td>\n",
              "      <td>1358574</td>\n",
              "    </tr>\n",
              "    <tr>\n",
              "      <th>1</th>\n",
              "      <td>927358</td>\n",
              "      <td>How do I undo the most recent local commits in...</td>\n",
              "      <td>&lt;p&gt;I accidentally committed the wrong files to...</td>\n",
              "      <td>&lt;git&gt;&lt;version-control&gt;&lt;git-commit&gt;&lt;undo&gt;</td>\n",
              "      <td>19640</td>\n",
              "      <td>7906137</td>\n",
              "    </tr>\n",
              "    <tr>\n",
              "      <th>2</th>\n",
              "      <td>2003505</td>\n",
              "      <td>How do I delete a Git branch locally and remot...</td>\n",
              "      <td>&lt;p&gt;I want to delete a branch both locally and ...</td>\n",
              "      <td>&lt;git&gt;&lt;git-branch&gt;&lt;git-remote&gt;</td>\n",
              "      <td>15249</td>\n",
              "      <td>6940906</td>\n",
              "    </tr>\n",
              "    <tr>\n",
              "      <th>3</th>\n",
              "      <td>292357</td>\n",
              "      <td>What is the difference between 'git pull' and ...</td>\n",
              "      <td>&lt;blockquote&gt;\\n  &lt;p&gt;&lt;strong&gt;Moderator Note:&lt;/st...</td>\n",
              "      <td>&lt;git&gt;&lt;git-pull&gt;&lt;git-fetch&gt;</td>\n",
              "      <td>11008</td>\n",
              "      <td>2543052</td>\n",
              "    </tr>\n",
              "    <tr>\n",
              "      <th>4</th>\n",
              "      <td>477816</td>\n",
              "      <td>What is the correct JSON content type?</td>\n",
              "      <td>&lt;p&gt;I've been messing around with &lt;a href=\"http...</td>\n",
              "      <td>&lt;json&gt;&lt;http-headers&gt;&lt;content-type&gt;</td>\n",
              "      <td>9701</td>\n",
              "      <td>2478940</td>\n",
              "    </tr>\n",
              "  </tbody>\n",
              "</table>\n",
              "</div>\n",
              "      <button class=\"colab-df-convert\" onclick=\"convertToInteractive('df-fc181452-2b69-4ba5-8fc2-f0cedb86b947')\"\n",
              "              title=\"Convert this dataframe to an interactive table.\"\n",
              "              style=\"display:none;\">\n",
              "        \n",
              "  <svg xmlns=\"http://www.w3.org/2000/svg\" height=\"24px\"viewBox=\"0 0 24 24\"\n",
              "       width=\"24px\">\n",
              "    <path d=\"M0 0h24v24H0V0z\" fill=\"none\"/>\n",
              "    <path d=\"M18.56 5.44l.94 2.06.94-2.06 2.06-.94-2.06-.94-.94-2.06-.94 2.06-2.06.94zm-11 1L8.5 8.5l.94-2.06 2.06-.94-2.06-.94L8.5 2.5l-.94 2.06-2.06.94zm10 10l.94 2.06.94-2.06 2.06-.94-2.06-.94-.94-2.06-.94 2.06-2.06.94z\"/><path d=\"M17.41 7.96l-1.37-1.37c-.4-.4-.92-.59-1.43-.59-.52 0-1.04.2-1.43.59L10.3 9.45l-7.72 7.72c-.78.78-.78 2.05 0 2.83L4 21.41c.39.39.9.59 1.41.59.51 0 1.02-.2 1.41-.59l7.78-7.78 2.81-2.81c.8-.78.8-2.07 0-2.86zM5.41 20L4 18.59l7.72-7.72 1.47 1.35L5.41 20z\"/>\n",
              "  </svg>\n",
              "      </button>\n",
              "      \n",
              "  <style>\n",
              "    .colab-df-container {\n",
              "      display:flex;\n",
              "      flex-wrap:wrap;\n",
              "      gap: 12px;\n",
              "    }\n",
              "\n",
              "    .colab-df-convert {\n",
              "      background-color: #E8F0FE;\n",
              "      border: none;\n",
              "      border-radius: 50%;\n",
              "      cursor: pointer;\n",
              "      display: none;\n",
              "      fill: #1967D2;\n",
              "      height: 32px;\n",
              "      padding: 0 0 0 0;\n",
              "      width: 32px;\n",
              "    }\n",
              "\n",
              "    .colab-df-convert:hover {\n",
              "      background-color: #E2EBFA;\n",
              "      box-shadow: 0px 1px 2px rgba(60, 64, 67, 0.3), 0px 1px 3px 1px rgba(60, 64, 67, 0.15);\n",
              "      fill: #174EA6;\n",
              "    }\n",
              "\n",
              "    [theme=dark] .colab-df-convert {\n",
              "      background-color: #3B4455;\n",
              "      fill: #D2E3FC;\n",
              "    }\n",
              "\n",
              "    [theme=dark] .colab-df-convert:hover {\n",
              "      background-color: #434B5C;\n",
              "      box-shadow: 0px 1px 3px 1px rgba(0, 0, 0, 0.15);\n",
              "      filter: drop-shadow(0px 1px 2px rgba(0, 0, 0, 0.3));\n",
              "      fill: #FFFFFF;\n",
              "    }\n",
              "  </style>\n",
              "\n",
              "      <script>\n",
              "        const buttonEl =\n",
              "          document.querySelector('#df-fc181452-2b69-4ba5-8fc2-f0cedb86b947 button.colab-df-convert');\n",
              "        buttonEl.style.display =\n",
              "          google.colab.kernel.accessAllowed ? 'block' : 'none';\n",
              "\n",
              "        async function convertToInteractive(key) {\n",
              "          const element = document.querySelector('#df-fc181452-2b69-4ba5-8fc2-f0cedb86b947');\n",
              "          const dataTable =\n",
              "            await google.colab.kernel.invokeFunction('convertToInteractive',\n",
              "                                                     [key], {});\n",
              "          if (!dataTable) return;\n",
              "\n",
              "          const docLinkHtml = 'Like what you see? Visit the ' +\n",
              "            '<a target=\"_blank\" href=https://colab.research.google.com/notebooks/data_table.ipynb>data table notebook</a>'\n",
              "            + ' to learn more about interactive tables.';\n",
              "          element.innerHTML = '';\n",
              "          dataTable['output_type'] = 'display_data';\n",
              "          await google.colab.output.renderOutput(dataTable, element);\n",
              "          const docLink = document.createElement('div');\n",
              "          docLink.innerHTML = docLinkHtml;\n",
              "          element.appendChild(docLink);\n",
              "        }\n",
              "      </script>\n",
              "    </div>\n",
              "  </div>\n",
              "  "
            ]
          },
          "metadata": {},
          "execution_count": 172
        }
      ]
    },
    {
      "cell_type": "code",
      "source": [
        "dados_espanhol = pd.read_csv(\"stackoverflow_espanhol.csv\")\n",
        "dados_espanhol.head()"
      ],
      "metadata": {
        "colab": {
          "base_uri": "https://localhost:8080/",
          "height": 337
        },
        "id": "Z2v_JzZ6GhgV",
        "outputId": "865c97b7-c432-4ca4-afb0-d8e422ac152b"
      },
      "execution_count": null,
      "outputs": [
        {
          "output_type": "execute_result",
          "data": {
            "text/plain": [
              "      Id                                             Título  \\\n",
              "0  18232              ¿Cómo evitar la inyección SQL en PHP?   \n",
              "1    197  ¿Por qué mis programas no pueden hacer cálculo...   \n",
              "2     36  ¿Cuál es la diferencia entre un inner y un out...   \n",
              "3  29177  ¿Por qué es considerado una mala práctica util...   \n",
              "4    142  Validar un email en JavaScript que acepte todo...   \n",
              "\n",
              "                                             Questão  \\\n",
              "0  <p>Las sentencias dinámicas son sentencias SQL...   \n",
              "1  <p>Unas veces los cálculos funcionan correctam...   \n",
              "2  <p>¿Cuál es la diferencia entre un <code>inner...   \n",
              "3  <p>La mayoría de nosotros decimos, (muchas vec...   \n",
              "4  <h3>Pregunta</h3>\\n\\n<p>¿Cómo validar un e-mai...   \n",
              "\n",
              "                                                Tags  Pontuação  Visualizações  \n",
              "0        <php><mysql><sql><seguridad><inyección-sql>        169          38614  \n",
              "1   <matemáticas><coma-flotante><lenguaje-agnóstico>        141           3860  \n",
              "2                                 <mysql><sql><join>         97          53627  \n",
              "3  <variables><variables-globales><patrones-de-di...         89           9987  \n",
              "4             <javascript><validación><email><regex>         87          73129  "
            ],
            "text/html": [
              "\n",
              "  <div id=\"df-127d7ae9-3589-4e1b-b98d-300da81b20bd\">\n",
              "    <div class=\"colab-df-container\">\n",
              "      <div>\n",
              "<style scoped>\n",
              "    .dataframe tbody tr th:only-of-type {\n",
              "        vertical-align: middle;\n",
              "    }\n",
              "\n",
              "    .dataframe tbody tr th {\n",
              "        vertical-align: top;\n",
              "    }\n",
              "\n",
              "    .dataframe thead th {\n",
              "        text-align: right;\n",
              "    }\n",
              "</style>\n",
              "<table border=\"1\" class=\"dataframe\">\n",
              "  <thead>\n",
              "    <tr style=\"text-align: right;\">\n",
              "      <th></th>\n",
              "      <th>Id</th>\n",
              "      <th>Título</th>\n",
              "      <th>Questão</th>\n",
              "      <th>Tags</th>\n",
              "      <th>Pontuação</th>\n",
              "      <th>Visualizações</th>\n",
              "    </tr>\n",
              "  </thead>\n",
              "  <tbody>\n",
              "    <tr>\n",
              "      <th>0</th>\n",
              "      <td>18232</td>\n",
              "      <td>¿Cómo evitar la inyección SQL en PHP?</td>\n",
              "      <td>&lt;p&gt;Las sentencias dinámicas son sentencias SQL...</td>\n",
              "      <td>&lt;php&gt;&lt;mysql&gt;&lt;sql&gt;&lt;seguridad&gt;&lt;inyección-sql&gt;</td>\n",
              "      <td>169</td>\n",
              "      <td>38614</td>\n",
              "    </tr>\n",
              "    <tr>\n",
              "      <th>1</th>\n",
              "      <td>197</td>\n",
              "      <td>¿Por qué mis programas no pueden hacer cálculo...</td>\n",
              "      <td>&lt;p&gt;Unas veces los cálculos funcionan correctam...</td>\n",
              "      <td>&lt;matemáticas&gt;&lt;coma-flotante&gt;&lt;lenguaje-agnóstico&gt;</td>\n",
              "      <td>141</td>\n",
              "      <td>3860</td>\n",
              "    </tr>\n",
              "    <tr>\n",
              "      <th>2</th>\n",
              "      <td>36</td>\n",
              "      <td>¿Cuál es la diferencia entre un inner y un out...</td>\n",
              "      <td>&lt;p&gt;¿Cuál es la diferencia entre un &lt;code&gt;inner...</td>\n",
              "      <td>&lt;mysql&gt;&lt;sql&gt;&lt;join&gt;</td>\n",
              "      <td>97</td>\n",
              "      <td>53627</td>\n",
              "    </tr>\n",
              "    <tr>\n",
              "      <th>3</th>\n",
              "      <td>29177</td>\n",
              "      <td>¿Por qué es considerado una mala práctica util...</td>\n",
              "      <td>&lt;p&gt;La mayoría de nosotros decimos, (muchas vec...</td>\n",
              "      <td>&lt;variables&gt;&lt;variables-globales&gt;&lt;patrones-de-di...</td>\n",
              "      <td>89</td>\n",
              "      <td>9987</td>\n",
              "    </tr>\n",
              "    <tr>\n",
              "      <th>4</th>\n",
              "      <td>142</td>\n",
              "      <td>Validar un email en JavaScript que acepte todo...</td>\n",
              "      <td>&lt;h3&gt;Pregunta&lt;/h3&gt;\\n\\n&lt;p&gt;¿Cómo validar un e-mai...</td>\n",
              "      <td>&lt;javascript&gt;&lt;validación&gt;&lt;email&gt;&lt;regex&gt;</td>\n",
              "      <td>87</td>\n",
              "      <td>73129</td>\n",
              "    </tr>\n",
              "  </tbody>\n",
              "</table>\n",
              "</div>\n",
              "      <button class=\"colab-df-convert\" onclick=\"convertToInteractive('df-127d7ae9-3589-4e1b-b98d-300da81b20bd')\"\n",
              "              title=\"Convert this dataframe to an interactive table.\"\n",
              "              style=\"display:none;\">\n",
              "        \n",
              "  <svg xmlns=\"http://www.w3.org/2000/svg\" height=\"24px\"viewBox=\"0 0 24 24\"\n",
              "       width=\"24px\">\n",
              "    <path d=\"M0 0h24v24H0V0z\" fill=\"none\"/>\n",
              "    <path d=\"M18.56 5.44l.94 2.06.94-2.06 2.06-.94-2.06-.94-.94-2.06-.94 2.06-2.06.94zm-11 1L8.5 8.5l.94-2.06 2.06-.94-2.06-.94L8.5 2.5l-.94 2.06-2.06.94zm10 10l.94 2.06.94-2.06 2.06-.94-2.06-.94-.94-2.06-.94 2.06-2.06.94z\"/><path d=\"M17.41 7.96l-1.37-1.37c-.4-.4-.92-.59-1.43-.59-.52 0-1.04.2-1.43.59L10.3 9.45l-7.72 7.72c-.78.78-.78 2.05 0 2.83L4 21.41c.39.39.9.59 1.41.59.51 0 1.02-.2 1.41-.59l7.78-7.78 2.81-2.81c.8-.78.8-2.07 0-2.86zM5.41 20L4 18.59l7.72-7.72 1.47 1.35L5.41 20z\"/>\n",
              "  </svg>\n",
              "      </button>\n",
              "      \n",
              "  <style>\n",
              "    .colab-df-container {\n",
              "      display:flex;\n",
              "      flex-wrap:wrap;\n",
              "      gap: 12px;\n",
              "    }\n",
              "\n",
              "    .colab-df-convert {\n",
              "      background-color: #E8F0FE;\n",
              "      border: none;\n",
              "      border-radius: 50%;\n",
              "      cursor: pointer;\n",
              "      display: none;\n",
              "      fill: #1967D2;\n",
              "      height: 32px;\n",
              "      padding: 0 0 0 0;\n",
              "      width: 32px;\n",
              "    }\n",
              "\n",
              "    .colab-df-convert:hover {\n",
              "      background-color: #E2EBFA;\n",
              "      box-shadow: 0px 1px 2px rgba(60, 64, 67, 0.3), 0px 1px 3px 1px rgba(60, 64, 67, 0.15);\n",
              "      fill: #174EA6;\n",
              "    }\n",
              "\n",
              "    [theme=dark] .colab-df-convert {\n",
              "      background-color: #3B4455;\n",
              "      fill: #D2E3FC;\n",
              "    }\n",
              "\n",
              "    [theme=dark] .colab-df-convert:hover {\n",
              "      background-color: #434B5C;\n",
              "      box-shadow: 0px 1px 3px 1px rgba(0, 0, 0, 0.15);\n",
              "      filter: drop-shadow(0px 1px 2px rgba(0, 0, 0, 0.3));\n",
              "      fill: #FFFFFF;\n",
              "    }\n",
              "  </style>\n",
              "\n",
              "      <script>\n",
              "        const buttonEl =\n",
              "          document.querySelector('#df-127d7ae9-3589-4e1b-b98d-300da81b20bd button.colab-df-convert');\n",
              "        buttonEl.style.display =\n",
              "          google.colab.kernel.accessAllowed ? 'block' : 'none';\n",
              "\n",
              "        async function convertToInteractive(key) {\n",
              "          const element = document.querySelector('#df-127d7ae9-3589-4e1b-b98d-300da81b20bd');\n",
              "          const dataTable =\n",
              "            await google.colab.kernel.invokeFunction('convertToInteractive',\n",
              "                                                     [key], {});\n",
              "          if (!dataTable) return;\n",
              "\n",
              "          const docLinkHtml = 'Like what you see? Visit the ' +\n",
              "            '<a target=\"_blank\" href=https://colab.research.google.com/notebooks/data_table.ipynb>data table notebook</a>'\n",
              "            + ' to learn more about interactive tables.';\n",
              "          element.innerHTML = '';\n",
              "          dataTable['output_type'] = 'display_data';\n",
              "          await google.colab.output.renderOutput(dataTable, element);\n",
              "          const docLink = document.createElement('div');\n",
              "          docLink.innerHTML = docLinkHtml;\n",
              "          element.appendChild(docLink);\n",
              "        }\n",
              "      </script>\n",
              "    </div>\n",
              "  </div>\n",
              "  "
            ]
          },
          "metadata": {},
          "execution_count": 173
        }
      ]
    },
    {
      "cell_type": "code",
      "source": [
        "import re\n",
        "re.findall(r\"<.*?>\", dados_portugues['Questão'][5]) # encontrando as regex correspondentes ao html nos textos"
      ],
      "metadata": {
        "colab": {
          "base_uri": "https://localhost:8080/"
        },
        "id": "KvoEUX9vk1Gl",
        "outputId": "cec84e85-4fdc-4d09-8873-3f4d25cb67c5"
      },
      "execution_count": null,
      "outputs": [
        {
          "output_type": "execute_result",
          "data": {
            "text/plain": [
              "['<p>',\n",
              " '</p>',\n",
              " '<pre>',\n",
              " '<code>',\n",
              " '</code>',\n",
              " '</pre>',\n",
              " '<p>',\n",
              " '<code>',\n",
              " '</code>',\n",
              " '<code>',\n",
              " '</code>',\n",
              " '</p>',\n",
              " '<pre>',\n",
              " '<code>',\n",
              " '</code>',\n",
              " '</pre>',\n",
              " '<p>',\n",
              " '<code>',\n",
              " '</code>',\n",
              " '<code>',\n",
              " '</code>',\n",
              " '</p>',\n",
              " '<p>',\n",
              " '</p>']"
            ]
          },
          "metadata": {},
          "execution_count": 174
        }
      ]
    },
    {
      "cell_type": "code",
      "source": [
        "def substituir_codigo(textos, regex): #substituir trechos da respectiva regex pela palavra CODE\n",
        "  if type(textos) == str:\n",
        "    return regex.sub(\"CODE\", textos)\n",
        "  else:\n",
        "    return [regex.sub(\"CODE\", texto) for texto in textos]"
      ],
      "metadata": {
        "id": "POTz2K59xMgM"
      },
      "execution_count": null,
      "outputs": []
    },
    {
      "cell_type": "code",
      "source": [
        "regex_codigo = re.compile(r\"<code>(.|(\\n))*?</code>\") # regex para código da tag html"
      ],
      "metadata": {
        "id": "Z0TARJ7KxT6N"
      },
      "execution_count": null,
      "outputs": []
    },
    {
      "cell_type": "code",
      "source": [
        "def remover(textos, regex): # remove trechos de acordo com a regex\n",
        "  if type(textos) == str:\n",
        "    return regex.sub(\"\", textos)\n",
        "  else:\n",
        "    return [regex.sub(\"\", texto) for texto in textos]"
      ],
      "metadata": {
        "id": "0Fl3mPoQLUHR"
      },
      "execution_count": null,
      "outputs": []
    },
    {
      "cell_type": "code",
      "source": [
        "regex_html = re.compile(r\"<.*?>\") # regex para tag html"
      ],
      "metadata": {
        "id": "QqNkmTjtvy5F"
      },
      "execution_count": null,
      "outputs": []
    },
    {
      "cell_type": "code",
      "source": [
        "questoes_port_sem_code = substituir_codigo(dados_portugues.Questão, regex_codigo)\n",
        "questoes_port_sem_code_tag = remover(questoes_port_sem_code, regex_html)\n",
        "\n",
        "dados_portugues[\"sem_code_tag\"] = questoes_port_sem_code_tag\n",
        "dados_portugues.head()"
      ],
      "metadata": {
        "colab": {
          "base_uri": "https://localhost:8080/",
          "height": 423
        },
        "id": "Q8VWgNzywAM8",
        "outputId": "404379fe-0d9b-4f1a-bfa4-7046ce22c3cc"
      },
      "execution_count": null,
      "outputs": [
        {
          "output_type": "execute_result",
          "data": {
            "text/plain": [
              "      Id                                             Título  \\\n",
              "0   2402         Como fazer hash de senhas de forma segura?   \n",
              "1   6441  Qual é a diferença entre INNER JOIN e OUTER JOIN?   \n",
              "2    579  Por que não devemos usar funções do tipo mysql_*?   \n",
              "3   2539           As mensagens de erro devem se desculpar?   \n",
              "4  17501  Qual é a diferença de API, biblioteca e Framew...   \n",
              "\n",
              "                                             Questão  \\\n",
              "0  <p>Se eu fizer o <em><a href=\"http://pt.wikipe...   \n",
              "1  <p>Qual é a diferença entre <code>INNER JOIN</...   \n",
              "2  <p>Uma dúvida muito comum é por que devemos pa...   \n",
              "3  <p>É comum encontrar uma mensagem de erro que ...   \n",
              "4  <p>Me parecem termos muito próximos e eventual...   \n",
              "\n",
              "                                         Tags  Pontuação  Visualizações  \\\n",
              "0     <hash><segurança><senhas><criptografia>        350          22367   \n",
              "1                                 <sql><join>        276         176953   \n",
              "2                                <php><mysql>        226           9761   \n",
              "3           <aplicação-web><gui><console><ux>        214           5075   \n",
              "4  <api><framework><terminologia><biblioteca>        193          54191   \n",
              "\n",
              "                                        sem_code_tag  \n",
              "0  Se eu fizer o hash de senhas antes de armazená...  \n",
              "1  Qual é a diferença entre CODE e CODE? Podem me...  \n",
              "2  Uma dúvida muito comum é por que devemos parar...  \n",
              "3  É comum encontrar uma mensagem de erro que diz...  \n",
              "4  Me parecem termos muito próximos e eventualmen...  "
            ],
            "text/html": [
              "\n",
              "  <div id=\"df-85e73e2f-be0c-410c-9dad-069247e53d9f\">\n",
              "    <div class=\"colab-df-container\">\n",
              "      <div>\n",
              "<style scoped>\n",
              "    .dataframe tbody tr th:only-of-type {\n",
              "        vertical-align: middle;\n",
              "    }\n",
              "\n",
              "    .dataframe tbody tr th {\n",
              "        vertical-align: top;\n",
              "    }\n",
              "\n",
              "    .dataframe thead th {\n",
              "        text-align: right;\n",
              "    }\n",
              "</style>\n",
              "<table border=\"1\" class=\"dataframe\">\n",
              "  <thead>\n",
              "    <tr style=\"text-align: right;\">\n",
              "      <th></th>\n",
              "      <th>Id</th>\n",
              "      <th>Título</th>\n",
              "      <th>Questão</th>\n",
              "      <th>Tags</th>\n",
              "      <th>Pontuação</th>\n",
              "      <th>Visualizações</th>\n",
              "      <th>sem_code_tag</th>\n",
              "    </tr>\n",
              "  </thead>\n",
              "  <tbody>\n",
              "    <tr>\n",
              "      <th>0</th>\n",
              "      <td>2402</td>\n",
              "      <td>Como fazer hash de senhas de forma segura?</td>\n",
              "      <td>&lt;p&gt;Se eu fizer o &lt;em&gt;&lt;a href=\"http://pt.wikipe...</td>\n",
              "      <td>&lt;hash&gt;&lt;segurança&gt;&lt;senhas&gt;&lt;criptografia&gt;</td>\n",
              "      <td>350</td>\n",
              "      <td>22367</td>\n",
              "      <td>Se eu fizer o hash de senhas antes de armazená...</td>\n",
              "    </tr>\n",
              "    <tr>\n",
              "      <th>1</th>\n",
              "      <td>6441</td>\n",
              "      <td>Qual é a diferença entre INNER JOIN e OUTER JOIN?</td>\n",
              "      <td>&lt;p&gt;Qual é a diferença entre &lt;code&gt;INNER JOIN&lt;/...</td>\n",
              "      <td>&lt;sql&gt;&lt;join&gt;</td>\n",
              "      <td>276</td>\n",
              "      <td>176953</td>\n",
              "      <td>Qual é a diferença entre CODE e CODE? Podem me...</td>\n",
              "    </tr>\n",
              "    <tr>\n",
              "      <th>2</th>\n",
              "      <td>579</td>\n",
              "      <td>Por que não devemos usar funções do tipo mysql_*?</td>\n",
              "      <td>&lt;p&gt;Uma dúvida muito comum é por que devemos pa...</td>\n",
              "      <td>&lt;php&gt;&lt;mysql&gt;</td>\n",
              "      <td>226</td>\n",
              "      <td>9761</td>\n",
              "      <td>Uma dúvida muito comum é por que devemos parar...</td>\n",
              "    </tr>\n",
              "    <tr>\n",
              "      <th>3</th>\n",
              "      <td>2539</td>\n",
              "      <td>As mensagens de erro devem se desculpar?</td>\n",
              "      <td>&lt;p&gt;É comum encontrar uma mensagem de erro que ...</td>\n",
              "      <td>&lt;aplicação-web&gt;&lt;gui&gt;&lt;console&gt;&lt;ux&gt;</td>\n",
              "      <td>214</td>\n",
              "      <td>5075</td>\n",
              "      <td>É comum encontrar uma mensagem de erro que diz...</td>\n",
              "    </tr>\n",
              "    <tr>\n",
              "      <th>4</th>\n",
              "      <td>17501</td>\n",
              "      <td>Qual é a diferença de API, biblioteca e Framew...</td>\n",
              "      <td>&lt;p&gt;Me parecem termos muito próximos e eventual...</td>\n",
              "      <td>&lt;api&gt;&lt;framework&gt;&lt;terminologia&gt;&lt;biblioteca&gt;</td>\n",
              "      <td>193</td>\n",
              "      <td>54191</td>\n",
              "      <td>Me parecem termos muito próximos e eventualmen...</td>\n",
              "    </tr>\n",
              "  </tbody>\n",
              "</table>\n",
              "</div>\n",
              "      <button class=\"colab-df-convert\" onclick=\"convertToInteractive('df-85e73e2f-be0c-410c-9dad-069247e53d9f')\"\n",
              "              title=\"Convert this dataframe to an interactive table.\"\n",
              "              style=\"display:none;\">\n",
              "        \n",
              "  <svg xmlns=\"http://www.w3.org/2000/svg\" height=\"24px\"viewBox=\"0 0 24 24\"\n",
              "       width=\"24px\">\n",
              "    <path d=\"M0 0h24v24H0V0z\" fill=\"none\"/>\n",
              "    <path d=\"M18.56 5.44l.94 2.06.94-2.06 2.06-.94-2.06-.94-.94-2.06-.94 2.06-2.06.94zm-11 1L8.5 8.5l.94-2.06 2.06-.94-2.06-.94L8.5 2.5l-.94 2.06-2.06.94zm10 10l.94 2.06.94-2.06 2.06-.94-2.06-.94-.94-2.06-.94 2.06-2.06.94z\"/><path d=\"M17.41 7.96l-1.37-1.37c-.4-.4-.92-.59-1.43-.59-.52 0-1.04.2-1.43.59L10.3 9.45l-7.72 7.72c-.78.78-.78 2.05 0 2.83L4 21.41c.39.39.9.59 1.41.59.51 0 1.02-.2 1.41-.59l7.78-7.78 2.81-2.81c.8-.78.8-2.07 0-2.86zM5.41 20L4 18.59l7.72-7.72 1.47 1.35L5.41 20z\"/>\n",
              "  </svg>\n",
              "      </button>\n",
              "      \n",
              "  <style>\n",
              "    .colab-df-container {\n",
              "      display:flex;\n",
              "      flex-wrap:wrap;\n",
              "      gap: 12px;\n",
              "    }\n",
              "\n",
              "    .colab-df-convert {\n",
              "      background-color: #E8F0FE;\n",
              "      border: none;\n",
              "      border-radius: 50%;\n",
              "      cursor: pointer;\n",
              "      display: none;\n",
              "      fill: #1967D2;\n",
              "      height: 32px;\n",
              "      padding: 0 0 0 0;\n",
              "      width: 32px;\n",
              "    }\n",
              "\n",
              "    .colab-df-convert:hover {\n",
              "      background-color: #E2EBFA;\n",
              "      box-shadow: 0px 1px 2px rgba(60, 64, 67, 0.3), 0px 1px 3px 1px rgba(60, 64, 67, 0.15);\n",
              "      fill: #174EA6;\n",
              "    }\n",
              "\n",
              "    [theme=dark] .colab-df-convert {\n",
              "      background-color: #3B4455;\n",
              "      fill: #D2E3FC;\n",
              "    }\n",
              "\n",
              "    [theme=dark] .colab-df-convert:hover {\n",
              "      background-color: #434B5C;\n",
              "      box-shadow: 0px 1px 3px 1px rgba(0, 0, 0, 0.15);\n",
              "      filter: drop-shadow(0px 1px 2px rgba(0, 0, 0, 0.3));\n",
              "      fill: #FFFFFF;\n",
              "    }\n",
              "  </style>\n",
              "\n",
              "      <script>\n",
              "        const buttonEl =\n",
              "          document.querySelector('#df-85e73e2f-be0c-410c-9dad-069247e53d9f button.colab-df-convert');\n",
              "        buttonEl.style.display =\n",
              "          google.colab.kernel.accessAllowed ? 'block' : 'none';\n",
              "\n",
              "        async function convertToInteractive(key) {\n",
              "          const element = document.querySelector('#df-85e73e2f-be0c-410c-9dad-069247e53d9f');\n",
              "          const dataTable =\n",
              "            await google.colab.kernel.invokeFunction('convertToInteractive',\n",
              "                                                     [key], {});\n",
              "          if (!dataTable) return;\n",
              "\n",
              "          const docLinkHtml = 'Like what you see? Visit the ' +\n",
              "            '<a target=\"_blank\" href=https://colab.research.google.com/notebooks/data_table.ipynb>data table notebook</a>'\n",
              "            + ' to learn more about interactive tables.';\n",
              "          element.innerHTML = '';\n",
              "          dataTable['output_type'] = 'display_data';\n",
              "          await google.colab.output.renderOutput(dataTable, element);\n",
              "          const docLink = document.createElement('div');\n",
              "          docLink.innerHTML = docLinkHtml;\n",
              "          element.appendChild(docLink);\n",
              "        }\n",
              "      </script>\n",
              "    </div>\n",
              "  </div>\n",
              "  "
            ]
          },
          "metadata": {},
          "execution_count": 179
        }
      ]
    },
    {
      "cell_type": "code",
      "source": [
        "questoes_ing_sem_code = substituir_codigo(dados_ingles.Questão, regex_codigo)\n",
        "questoes_ing_sem_code_tag = remover(questoes_ing_sem_code, regex_html)\n",
        "\n",
        "dados_ingles[\"sem_code_tag\"] = questoes_ing_sem_code_tag\n",
        "dados_ingles.head()"
      ],
      "metadata": {
        "colab": {
          "base_uri": "https://localhost:8080/",
          "height": 423
        },
        "id": "lJ1uj9CDyaCm",
        "outputId": "03652b76-557a-4251-da0c-0319968ffe9b"
      },
      "execution_count": null,
      "outputs": [
        {
          "output_type": "execute_result",
          "data": {
            "text/plain": [
              "         Id                                             Título  \\\n",
              "0  11227809  Why is it faster to process a sorted array tha...   \n",
              "1    927358  How do I undo the most recent local commits in...   \n",
              "2   2003505  How do I delete a Git branch locally and remot...   \n",
              "3    292357  What is the difference between 'git pull' and ...   \n",
              "4    477816             What is the correct JSON content type?   \n",
              "\n",
              "                                             Questão  \\\n",
              "0  <p>Here is a piece of C++ code that seems very...   \n",
              "1  <p>I accidentally committed the wrong files to...   \n",
              "2  <p>I want to delete a branch both locally and ...   \n",
              "3  <blockquote>\\n  <p><strong>Moderator Note:</st...   \n",
              "4  <p>I've been messing around with <a href=\"http...   \n",
              "\n",
              "                                                Tags  Pontuação  \\\n",
              "0  <java><c++><performance><optimization><branch-...      23057   \n",
              "1           <git><version-control><git-commit><undo>      19640   \n",
              "2                      <git><git-branch><git-remote>      15249   \n",
              "3                         <git><git-pull><git-fetch>      11008   \n",
              "4                 <json><http-headers><content-type>       9701   \n",
              "\n",
              "   Visualizações                                       sem_code_tag  \n",
              "0        1358574  Here is a piece of C++ code that seems very pe...  \n",
              "1        7906137  I accidentally committed the wrong files to Gi...  \n",
              "2        6940906  I want to delete a branch both locally and rem...  \n",
              "3        2543052  \\n  Moderator Note: Given that this question h...  \n",
              "4        2478940  I've been messing around with JSON for some ti...  "
            ],
            "text/html": [
              "\n",
              "  <div id=\"df-6ceebe29-e8d2-4174-9843-e4022f65fc52\">\n",
              "    <div class=\"colab-df-container\">\n",
              "      <div>\n",
              "<style scoped>\n",
              "    .dataframe tbody tr th:only-of-type {\n",
              "        vertical-align: middle;\n",
              "    }\n",
              "\n",
              "    .dataframe tbody tr th {\n",
              "        vertical-align: top;\n",
              "    }\n",
              "\n",
              "    .dataframe thead th {\n",
              "        text-align: right;\n",
              "    }\n",
              "</style>\n",
              "<table border=\"1\" class=\"dataframe\">\n",
              "  <thead>\n",
              "    <tr style=\"text-align: right;\">\n",
              "      <th></th>\n",
              "      <th>Id</th>\n",
              "      <th>Título</th>\n",
              "      <th>Questão</th>\n",
              "      <th>Tags</th>\n",
              "      <th>Pontuação</th>\n",
              "      <th>Visualizações</th>\n",
              "      <th>sem_code_tag</th>\n",
              "    </tr>\n",
              "  </thead>\n",
              "  <tbody>\n",
              "    <tr>\n",
              "      <th>0</th>\n",
              "      <td>11227809</td>\n",
              "      <td>Why is it faster to process a sorted array tha...</td>\n",
              "      <td>&lt;p&gt;Here is a piece of C++ code that seems very...</td>\n",
              "      <td>&lt;java&gt;&lt;c++&gt;&lt;performance&gt;&lt;optimization&gt;&lt;branch-...</td>\n",
              "      <td>23057</td>\n",
              "      <td>1358574</td>\n",
              "      <td>Here is a piece of C++ code that seems very pe...</td>\n",
              "    </tr>\n",
              "    <tr>\n",
              "      <th>1</th>\n",
              "      <td>927358</td>\n",
              "      <td>How do I undo the most recent local commits in...</td>\n",
              "      <td>&lt;p&gt;I accidentally committed the wrong files to...</td>\n",
              "      <td>&lt;git&gt;&lt;version-control&gt;&lt;git-commit&gt;&lt;undo&gt;</td>\n",
              "      <td>19640</td>\n",
              "      <td>7906137</td>\n",
              "      <td>I accidentally committed the wrong files to Gi...</td>\n",
              "    </tr>\n",
              "    <tr>\n",
              "      <th>2</th>\n",
              "      <td>2003505</td>\n",
              "      <td>How do I delete a Git branch locally and remot...</td>\n",
              "      <td>&lt;p&gt;I want to delete a branch both locally and ...</td>\n",
              "      <td>&lt;git&gt;&lt;git-branch&gt;&lt;git-remote&gt;</td>\n",
              "      <td>15249</td>\n",
              "      <td>6940906</td>\n",
              "      <td>I want to delete a branch both locally and rem...</td>\n",
              "    </tr>\n",
              "    <tr>\n",
              "      <th>3</th>\n",
              "      <td>292357</td>\n",
              "      <td>What is the difference between 'git pull' and ...</td>\n",
              "      <td>&lt;blockquote&gt;\\n  &lt;p&gt;&lt;strong&gt;Moderator Note:&lt;/st...</td>\n",
              "      <td>&lt;git&gt;&lt;git-pull&gt;&lt;git-fetch&gt;</td>\n",
              "      <td>11008</td>\n",
              "      <td>2543052</td>\n",
              "      <td>\\n  Moderator Note: Given that this question h...</td>\n",
              "    </tr>\n",
              "    <tr>\n",
              "      <th>4</th>\n",
              "      <td>477816</td>\n",
              "      <td>What is the correct JSON content type?</td>\n",
              "      <td>&lt;p&gt;I've been messing around with &lt;a href=\"http...</td>\n",
              "      <td>&lt;json&gt;&lt;http-headers&gt;&lt;content-type&gt;</td>\n",
              "      <td>9701</td>\n",
              "      <td>2478940</td>\n",
              "      <td>I've been messing around with JSON for some ti...</td>\n",
              "    </tr>\n",
              "  </tbody>\n",
              "</table>\n",
              "</div>\n",
              "      <button class=\"colab-df-convert\" onclick=\"convertToInteractive('df-6ceebe29-e8d2-4174-9843-e4022f65fc52')\"\n",
              "              title=\"Convert this dataframe to an interactive table.\"\n",
              "              style=\"display:none;\">\n",
              "        \n",
              "  <svg xmlns=\"http://www.w3.org/2000/svg\" height=\"24px\"viewBox=\"0 0 24 24\"\n",
              "       width=\"24px\">\n",
              "    <path d=\"M0 0h24v24H0V0z\" fill=\"none\"/>\n",
              "    <path d=\"M18.56 5.44l.94 2.06.94-2.06 2.06-.94-2.06-.94-.94-2.06-.94 2.06-2.06.94zm-11 1L8.5 8.5l.94-2.06 2.06-.94-2.06-.94L8.5 2.5l-.94 2.06-2.06.94zm10 10l.94 2.06.94-2.06 2.06-.94-2.06-.94-.94-2.06-.94 2.06-2.06.94z\"/><path d=\"M17.41 7.96l-1.37-1.37c-.4-.4-.92-.59-1.43-.59-.52 0-1.04.2-1.43.59L10.3 9.45l-7.72 7.72c-.78.78-.78 2.05 0 2.83L4 21.41c.39.39.9.59 1.41.59.51 0 1.02-.2 1.41-.59l7.78-7.78 2.81-2.81c.8-.78.8-2.07 0-2.86zM5.41 20L4 18.59l7.72-7.72 1.47 1.35L5.41 20z\"/>\n",
              "  </svg>\n",
              "      </button>\n",
              "      \n",
              "  <style>\n",
              "    .colab-df-container {\n",
              "      display:flex;\n",
              "      flex-wrap:wrap;\n",
              "      gap: 12px;\n",
              "    }\n",
              "\n",
              "    .colab-df-convert {\n",
              "      background-color: #E8F0FE;\n",
              "      border: none;\n",
              "      border-radius: 50%;\n",
              "      cursor: pointer;\n",
              "      display: none;\n",
              "      fill: #1967D2;\n",
              "      height: 32px;\n",
              "      padding: 0 0 0 0;\n",
              "      width: 32px;\n",
              "    }\n",
              "\n",
              "    .colab-df-convert:hover {\n",
              "      background-color: #E2EBFA;\n",
              "      box-shadow: 0px 1px 2px rgba(60, 64, 67, 0.3), 0px 1px 3px 1px rgba(60, 64, 67, 0.15);\n",
              "      fill: #174EA6;\n",
              "    }\n",
              "\n",
              "    [theme=dark] .colab-df-convert {\n",
              "      background-color: #3B4455;\n",
              "      fill: #D2E3FC;\n",
              "    }\n",
              "\n",
              "    [theme=dark] .colab-df-convert:hover {\n",
              "      background-color: #434B5C;\n",
              "      box-shadow: 0px 1px 3px 1px rgba(0, 0, 0, 0.15);\n",
              "      filter: drop-shadow(0px 1px 2px rgba(0, 0, 0, 0.3));\n",
              "      fill: #FFFFFF;\n",
              "    }\n",
              "  </style>\n",
              "\n",
              "      <script>\n",
              "        const buttonEl =\n",
              "          document.querySelector('#df-6ceebe29-e8d2-4174-9843-e4022f65fc52 button.colab-df-convert');\n",
              "        buttonEl.style.display =\n",
              "          google.colab.kernel.accessAllowed ? 'block' : 'none';\n",
              "\n",
              "        async function convertToInteractive(key) {\n",
              "          const element = document.querySelector('#df-6ceebe29-e8d2-4174-9843-e4022f65fc52');\n",
              "          const dataTable =\n",
              "            await google.colab.kernel.invokeFunction('convertToInteractive',\n",
              "                                                     [key], {});\n",
              "          if (!dataTable) return;\n",
              "\n",
              "          const docLinkHtml = 'Like what you see? Visit the ' +\n",
              "            '<a target=\"_blank\" href=https://colab.research.google.com/notebooks/data_table.ipynb>data table notebook</a>'\n",
              "            + ' to learn more about interactive tables.';\n",
              "          element.innerHTML = '';\n",
              "          dataTable['output_type'] = 'display_data';\n",
              "          await google.colab.output.renderOutput(dataTable, element);\n",
              "          const docLink = document.createElement('div');\n",
              "          docLink.innerHTML = docLinkHtml;\n",
              "          element.appendChild(docLink);\n",
              "        }\n",
              "      </script>\n",
              "    </div>\n",
              "  </div>\n",
              "  "
            ]
          },
          "metadata": {},
          "execution_count": 180
        }
      ]
    },
    {
      "cell_type": "code",
      "source": [
        "questoes_esp_sem_code = substituir_codigo(dados_espanhol.Questão, regex_codigo)\n",
        "questoes_esp_sem_code_tag = remover(questoes_esp_sem_code, regex_html)\n",
        "\n",
        "dados_espanhol[\"sem_code_tag\"] = questoes_esp_sem_code_tag\n",
        "dados_espanhol.head()"
      ],
      "metadata": {
        "colab": {
          "base_uri": "https://localhost:8080/",
          "height": 475
        },
        "id": "P7PMHUkSy5Ub",
        "outputId": "63866a79-816b-4657-f2ab-7af2c7d1987d"
      },
      "execution_count": null,
      "outputs": [
        {
          "output_type": "execute_result",
          "data": {
            "text/plain": [
              "      Id                                             Título  \\\n",
              "0  18232              ¿Cómo evitar la inyección SQL en PHP?   \n",
              "1    197  ¿Por qué mis programas no pueden hacer cálculo...   \n",
              "2     36  ¿Cuál es la diferencia entre un inner y un out...   \n",
              "3  29177  ¿Por qué es considerado una mala práctica util...   \n",
              "4    142  Validar un email en JavaScript que acepte todo...   \n",
              "\n",
              "                                             Questão  \\\n",
              "0  <p>Las sentencias dinámicas son sentencias SQL...   \n",
              "1  <p>Unas veces los cálculos funcionan correctam...   \n",
              "2  <p>¿Cuál es la diferencia entre un <code>inner...   \n",
              "3  <p>La mayoría de nosotros decimos, (muchas vec...   \n",
              "4  <h3>Pregunta</h3>\\n\\n<p>¿Cómo validar un e-mai...   \n",
              "\n",
              "                                                Tags  Pontuação  \\\n",
              "0        <php><mysql><sql><seguridad><inyección-sql>        169   \n",
              "1   <matemáticas><coma-flotante><lenguaje-agnóstico>        141   \n",
              "2                                 <mysql><sql><join>         97   \n",
              "3  <variables><variables-globales><patrones-de-di...         89   \n",
              "4             <javascript><validación><email><regex>         87   \n",
              "\n",
              "   Visualizações                                       sem_code_tag  \n",
              "0          38614  Las sentencias dinámicas son sentencias SQL qu...  \n",
              "1           3860  Unas veces los cálculos funcionan correctament...  \n",
              "2          53627  ¿Cuál es la diferencia entre un CODE y un CODE...  \n",
              "3           9987  La mayoría de nosotros decimos, (muchas veces ...  \n",
              "4          73129  Pregunta\\n\\n¿Cómo validar un e-mail que acepte...  "
            ],
            "text/html": [
              "\n",
              "  <div id=\"df-b87430a6-e88c-4216-aa1e-57af482a3a3d\">\n",
              "    <div class=\"colab-df-container\">\n",
              "      <div>\n",
              "<style scoped>\n",
              "    .dataframe tbody tr th:only-of-type {\n",
              "        vertical-align: middle;\n",
              "    }\n",
              "\n",
              "    .dataframe tbody tr th {\n",
              "        vertical-align: top;\n",
              "    }\n",
              "\n",
              "    .dataframe thead th {\n",
              "        text-align: right;\n",
              "    }\n",
              "</style>\n",
              "<table border=\"1\" class=\"dataframe\">\n",
              "  <thead>\n",
              "    <tr style=\"text-align: right;\">\n",
              "      <th></th>\n",
              "      <th>Id</th>\n",
              "      <th>Título</th>\n",
              "      <th>Questão</th>\n",
              "      <th>Tags</th>\n",
              "      <th>Pontuação</th>\n",
              "      <th>Visualizações</th>\n",
              "      <th>sem_code_tag</th>\n",
              "    </tr>\n",
              "  </thead>\n",
              "  <tbody>\n",
              "    <tr>\n",
              "      <th>0</th>\n",
              "      <td>18232</td>\n",
              "      <td>¿Cómo evitar la inyección SQL en PHP?</td>\n",
              "      <td>&lt;p&gt;Las sentencias dinámicas son sentencias SQL...</td>\n",
              "      <td>&lt;php&gt;&lt;mysql&gt;&lt;sql&gt;&lt;seguridad&gt;&lt;inyección-sql&gt;</td>\n",
              "      <td>169</td>\n",
              "      <td>38614</td>\n",
              "      <td>Las sentencias dinámicas son sentencias SQL qu...</td>\n",
              "    </tr>\n",
              "    <tr>\n",
              "      <th>1</th>\n",
              "      <td>197</td>\n",
              "      <td>¿Por qué mis programas no pueden hacer cálculo...</td>\n",
              "      <td>&lt;p&gt;Unas veces los cálculos funcionan correctam...</td>\n",
              "      <td>&lt;matemáticas&gt;&lt;coma-flotante&gt;&lt;lenguaje-agnóstico&gt;</td>\n",
              "      <td>141</td>\n",
              "      <td>3860</td>\n",
              "      <td>Unas veces los cálculos funcionan correctament...</td>\n",
              "    </tr>\n",
              "    <tr>\n",
              "      <th>2</th>\n",
              "      <td>36</td>\n",
              "      <td>¿Cuál es la diferencia entre un inner y un out...</td>\n",
              "      <td>&lt;p&gt;¿Cuál es la diferencia entre un &lt;code&gt;inner...</td>\n",
              "      <td>&lt;mysql&gt;&lt;sql&gt;&lt;join&gt;</td>\n",
              "      <td>97</td>\n",
              "      <td>53627</td>\n",
              "      <td>¿Cuál es la diferencia entre un CODE y un CODE...</td>\n",
              "    </tr>\n",
              "    <tr>\n",
              "      <th>3</th>\n",
              "      <td>29177</td>\n",
              "      <td>¿Por qué es considerado una mala práctica util...</td>\n",
              "      <td>&lt;p&gt;La mayoría de nosotros decimos, (muchas vec...</td>\n",
              "      <td>&lt;variables&gt;&lt;variables-globales&gt;&lt;patrones-de-di...</td>\n",
              "      <td>89</td>\n",
              "      <td>9987</td>\n",
              "      <td>La mayoría de nosotros decimos, (muchas veces ...</td>\n",
              "    </tr>\n",
              "    <tr>\n",
              "      <th>4</th>\n",
              "      <td>142</td>\n",
              "      <td>Validar un email en JavaScript que acepte todo...</td>\n",
              "      <td>&lt;h3&gt;Pregunta&lt;/h3&gt;\\n\\n&lt;p&gt;¿Cómo validar un e-mai...</td>\n",
              "      <td>&lt;javascript&gt;&lt;validación&gt;&lt;email&gt;&lt;regex&gt;</td>\n",
              "      <td>87</td>\n",
              "      <td>73129</td>\n",
              "      <td>Pregunta\\n\\n¿Cómo validar un e-mail que acepte...</td>\n",
              "    </tr>\n",
              "  </tbody>\n",
              "</table>\n",
              "</div>\n",
              "      <button class=\"colab-df-convert\" onclick=\"convertToInteractive('df-b87430a6-e88c-4216-aa1e-57af482a3a3d')\"\n",
              "              title=\"Convert this dataframe to an interactive table.\"\n",
              "              style=\"display:none;\">\n",
              "        \n",
              "  <svg xmlns=\"http://www.w3.org/2000/svg\" height=\"24px\"viewBox=\"0 0 24 24\"\n",
              "       width=\"24px\">\n",
              "    <path d=\"M0 0h24v24H0V0z\" fill=\"none\"/>\n",
              "    <path d=\"M18.56 5.44l.94 2.06.94-2.06 2.06-.94-2.06-.94-.94-2.06-.94 2.06-2.06.94zm-11 1L8.5 8.5l.94-2.06 2.06-.94-2.06-.94L8.5 2.5l-.94 2.06-2.06.94zm10 10l.94 2.06.94-2.06 2.06-.94-2.06-.94-.94-2.06-.94 2.06-2.06.94z\"/><path d=\"M17.41 7.96l-1.37-1.37c-.4-.4-.92-.59-1.43-.59-.52 0-1.04.2-1.43.59L10.3 9.45l-7.72 7.72c-.78.78-.78 2.05 0 2.83L4 21.41c.39.39.9.59 1.41.59.51 0 1.02-.2 1.41-.59l7.78-7.78 2.81-2.81c.8-.78.8-2.07 0-2.86zM5.41 20L4 18.59l7.72-7.72 1.47 1.35L5.41 20z\"/>\n",
              "  </svg>\n",
              "      </button>\n",
              "      \n",
              "  <style>\n",
              "    .colab-df-container {\n",
              "      display:flex;\n",
              "      flex-wrap:wrap;\n",
              "      gap: 12px;\n",
              "    }\n",
              "\n",
              "    .colab-df-convert {\n",
              "      background-color: #E8F0FE;\n",
              "      border: none;\n",
              "      border-radius: 50%;\n",
              "      cursor: pointer;\n",
              "      display: none;\n",
              "      fill: #1967D2;\n",
              "      height: 32px;\n",
              "      padding: 0 0 0 0;\n",
              "      width: 32px;\n",
              "    }\n",
              "\n",
              "    .colab-df-convert:hover {\n",
              "      background-color: #E2EBFA;\n",
              "      box-shadow: 0px 1px 2px rgba(60, 64, 67, 0.3), 0px 1px 3px 1px rgba(60, 64, 67, 0.15);\n",
              "      fill: #174EA6;\n",
              "    }\n",
              "\n",
              "    [theme=dark] .colab-df-convert {\n",
              "      background-color: #3B4455;\n",
              "      fill: #D2E3FC;\n",
              "    }\n",
              "\n",
              "    [theme=dark] .colab-df-convert:hover {\n",
              "      background-color: #434B5C;\n",
              "      box-shadow: 0px 1px 3px 1px rgba(0, 0, 0, 0.15);\n",
              "      filter: drop-shadow(0px 1px 2px rgba(0, 0, 0, 0.3));\n",
              "      fill: #FFFFFF;\n",
              "    }\n",
              "  </style>\n",
              "\n",
              "      <script>\n",
              "        const buttonEl =\n",
              "          document.querySelector('#df-b87430a6-e88c-4216-aa1e-57af482a3a3d button.colab-df-convert');\n",
              "        buttonEl.style.display =\n",
              "          google.colab.kernel.accessAllowed ? 'block' : 'none';\n",
              "\n",
              "        async function convertToInteractive(key) {\n",
              "          const element = document.querySelector('#df-b87430a6-e88c-4216-aa1e-57af482a3a3d');\n",
              "          const dataTable =\n",
              "            await google.colab.kernel.invokeFunction('convertToInteractive',\n",
              "                                                     [key], {});\n",
              "          if (!dataTable) return;\n",
              "\n",
              "          const docLinkHtml = 'Like what you see? Visit the ' +\n",
              "            '<a target=\"_blank\" href=https://colab.research.google.com/notebooks/data_table.ipynb>data table notebook</a>'\n",
              "            + ' to learn more about interactive tables.';\n",
              "          element.innerHTML = '';\n",
              "          dataTable['output_type'] = 'display_data';\n",
              "          await google.colab.output.renderOutput(dataTable, element);\n",
              "          const docLink = document.createElement('div');\n",
              "          docLink.innerHTML = docLinkHtml;\n",
              "          element.appendChild(docLink);\n",
              "        }\n",
              "      </script>\n",
              "    </div>\n",
              "  </div>\n",
              "  "
            ]
          },
          "metadata": {},
          "execution_count": 181
        }
      ]
    },
    {
      "cell_type": "code",
      "source": [
        "regex_pontuacao = re.compile(r\"[^\\w\\s]\") # regex para pontuação"
      ],
      "metadata": {
        "id": "lvHFv5ix0Amk"
      },
      "execution_count": null,
      "outputs": []
    },
    {
      "cell_type": "code",
      "source": [
        "def minusculo(textos): # transforma todo texto em minúsculo\n",
        "  if type(textos) == str:\n",
        "    return textos.lower()\n",
        "  else:\n",
        "    return [texto.lower() for texto in textos]"
      ],
      "metadata": {
        "id": "WGEHkioG00aU"
      },
      "execution_count": null,
      "outputs": []
    },
    {
      "cell_type": "code",
      "source": [
        "regex_digitos = re.compile(r\"\\d+\") # regex para números/dígitos ex: 1,2,3,4"
      ],
      "metadata": {
        "id": "WWClFnJ91Atc"
      },
      "execution_count": null,
      "outputs": []
    },
    {
      "cell_type": "code",
      "source": [
        "regex_espaco = re.compile(r\" +\") # regex para espaço duplo\n",
        "regex_quebra_linha = re.compile(r\"(\\n)\") # regex para quebra de linha\n",
        "\n",
        "def substituir_por_espaco(textos, regex):\n",
        "  if type(textos) == str:\n",
        "    return regex.sub(\" \", textos)\n",
        "  else:\n",
        "    return [regex.sub(\" \", texto) for texto in textos]"
      ],
      "metadata": {
        "id": "R742nd9z1jOE"
      },
      "execution_count": null,
      "outputs": []
    },
    {
      "cell_type": "code",
      "source": [
        "questoes_port_sem_pont = remover(dados_portugues.sem_code_tag, regex_pontuacao)\n",
        "questoes_port_sem_pont_minus = minusculo(questoes_port_sem_pont)\n",
        "questoes_port_sem_pont_minus_dig = remover(questoes_port_sem_pont_minus, regex_digitos)\n",
        "questoes_port_sem_quebra_linha = substituir_por_espaco(questoes_port_sem_pont_minus_dig, regex_quebra_linha)\n",
        "questoes_port_sem_espaco_dupl = substituir_por_espaco(questoes_port_sem_quebra_linha, regex_espaco)\n",
        "\n",
        "\n",
        "dados_portugues[\"questoes_tratadas\"] = questoes_port_sem_espaco_dupl\n",
        "dados_portugues.head()"
      ],
      "metadata": {
        "colab": {
          "base_uri": "https://localhost:8080/",
          "height": 510
        },
        "id": "AonoSfMc2TZu",
        "outputId": "945f4351-924b-4d93-bada-8601dc3d9a08"
      },
      "execution_count": null,
      "outputs": [
        {
          "output_type": "execute_result",
          "data": {
            "text/plain": [
              "      Id                                             Título  \\\n",
              "0   2402         Como fazer hash de senhas de forma segura?   \n",
              "1   6441  Qual é a diferença entre INNER JOIN e OUTER JOIN?   \n",
              "2    579  Por que não devemos usar funções do tipo mysql_*?   \n",
              "3   2539           As mensagens de erro devem se desculpar?   \n",
              "4  17501  Qual é a diferença de API, biblioteca e Framew...   \n",
              "\n",
              "                                             Questão  \\\n",
              "0  <p>Se eu fizer o <em><a href=\"http://pt.wikipe...   \n",
              "1  <p>Qual é a diferença entre <code>INNER JOIN</...   \n",
              "2  <p>Uma dúvida muito comum é por que devemos pa...   \n",
              "3  <p>É comum encontrar uma mensagem de erro que ...   \n",
              "4  <p>Me parecem termos muito próximos e eventual...   \n",
              "\n",
              "                                         Tags  Pontuação  Visualizações  \\\n",
              "0     <hash><segurança><senhas><criptografia>        350          22367   \n",
              "1                                 <sql><join>        276         176953   \n",
              "2                                <php><mysql>        226           9761   \n",
              "3           <aplicação-web><gui><console><ux>        214           5075   \n",
              "4  <api><framework><terminologia><biblioteca>        193          54191   \n",
              "\n",
              "                                        sem_code_tag  \\\n",
              "0  Se eu fizer o hash de senhas antes de armazená...   \n",
              "1  Qual é a diferença entre CODE e CODE? Podem me...   \n",
              "2  Uma dúvida muito comum é por que devemos parar...   \n",
              "3  É comum encontrar uma mensagem de erro que diz...   \n",
              "4  Me parecem termos muito próximos e eventualmen...   \n",
              "\n",
              "                                   questoes_tratadas  \n",
              "0  se eu fizer o hash de senhas antes de armazená...  \n",
              "1  qual é a diferença entre code e code podem me ...  \n",
              "2  uma dúvida muito comum é por que devemos parar...  \n",
              "3  é comum encontrar uma mensagem de erro que diz...  \n",
              "4  me parecem termos muito próximos e eventualmen...  "
            ],
            "text/html": [
              "\n",
              "  <div id=\"df-2e6fcfb5-1d24-4fa0-ba8b-64086f432ad9\">\n",
              "    <div class=\"colab-df-container\">\n",
              "      <div>\n",
              "<style scoped>\n",
              "    .dataframe tbody tr th:only-of-type {\n",
              "        vertical-align: middle;\n",
              "    }\n",
              "\n",
              "    .dataframe tbody tr th {\n",
              "        vertical-align: top;\n",
              "    }\n",
              "\n",
              "    .dataframe thead th {\n",
              "        text-align: right;\n",
              "    }\n",
              "</style>\n",
              "<table border=\"1\" class=\"dataframe\">\n",
              "  <thead>\n",
              "    <tr style=\"text-align: right;\">\n",
              "      <th></th>\n",
              "      <th>Id</th>\n",
              "      <th>Título</th>\n",
              "      <th>Questão</th>\n",
              "      <th>Tags</th>\n",
              "      <th>Pontuação</th>\n",
              "      <th>Visualizações</th>\n",
              "      <th>sem_code_tag</th>\n",
              "      <th>questoes_tratadas</th>\n",
              "    </tr>\n",
              "  </thead>\n",
              "  <tbody>\n",
              "    <tr>\n",
              "      <th>0</th>\n",
              "      <td>2402</td>\n",
              "      <td>Como fazer hash de senhas de forma segura?</td>\n",
              "      <td>&lt;p&gt;Se eu fizer o &lt;em&gt;&lt;a href=\"http://pt.wikipe...</td>\n",
              "      <td>&lt;hash&gt;&lt;segurança&gt;&lt;senhas&gt;&lt;criptografia&gt;</td>\n",
              "      <td>350</td>\n",
              "      <td>22367</td>\n",
              "      <td>Se eu fizer o hash de senhas antes de armazená...</td>\n",
              "      <td>se eu fizer o hash de senhas antes de armazená...</td>\n",
              "    </tr>\n",
              "    <tr>\n",
              "      <th>1</th>\n",
              "      <td>6441</td>\n",
              "      <td>Qual é a diferença entre INNER JOIN e OUTER JOIN?</td>\n",
              "      <td>&lt;p&gt;Qual é a diferença entre &lt;code&gt;INNER JOIN&lt;/...</td>\n",
              "      <td>&lt;sql&gt;&lt;join&gt;</td>\n",
              "      <td>276</td>\n",
              "      <td>176953</td>\n",
              "      <td>Qual é a diferença entre CODE e CODE? Podem me...</td>\n",
              "      <td>qual é a diferença entre code e code podem me ...</td>\n",
              "    </tr>\n",
              "    <tr>\n",
              "      <th>2</th>\n",
              "      <td>579</td>\n",
              "      <td>Por que não devemos usar funções do tipo mysql_*?</td>\n",
              "      <td>&lt;p&gt;Uma dúvida muito comum é por que devemos pa...</td>\n",
              "      <td>&lt;php&gt;&lt;mysql&gt;</td>\n",
              "      <td>226</td>\n",
              "      <td>9761</td>\n",
              "      <td>Uma dúvida muito comum é por que devemos parar...</td>\n",
              "      <td>uma dúvida muito comum é por que devemos parar...</td>\n",
              "    </tr>\n",
              "    <tr>\n",
              "      <th>3</th>\n",
              "      <td>2539</td>\n",
              "      <td>As mensagens de erro devem se desculpar?</td>\n",
              "      <td>&lt;p&gt;É comum encontrar uma mensagem de erro que ...</td>\n",
              "      <td>&lt;aplicação-web&gt;&lt;gui&gt;&lt;console&gt;&lt;ux&gt;</td>\n",
              "      <td>214</td>\n",
              "      <td>5075</td>\n",
              "      <td>É comum encontrar uma mensagem de erro que diz...</td>\n",
              "      <td>é comum encontrar uma mensagem de erro que diz...</td>\n",
              "    </tr>\n",
              "    <tr>\n",
              "      <th>4</th>\n",
              "      <td>17501</td>\n",
              "      <td>Qual é a diferença de API, biblioteca e Framew...</td>\n",
              "      <td>&lt;p&gt;Me parecem termos muito próximos e eventual...</td>\n",
              "      <td>&lt;api&gt;&lt;framework&gt;&lt;terminologia&gt;&lt;biblioteca&gt;</td>\n",
              "      <td>193</td>\n",
              "      <td>54191</td>\n",
              "      <td>Me parecem termos muito próximos e eventualmen...</td>\n",
              "      <td>me parecem termos muito próximos e eventualmen...</td>\n",
              "    </tr>\n",
              "  </tbody>\n",
              "</table>\n",
              "</div>\n",
              "      <button class=\"colab-df-convert\" onclick=\"convertToInteractive('df-2e6fcfb5-1d24-4fa0-ba8b-64086f432ad9')\"\n",
              "              title=\"Convert this dataframe to an interactive table.\"\n",
              "              style=\"display:none;\">\n",
              "        \n",
              "  <svg xmlns=\"http://www.w3.org/2000/svg\" height=\"24px\"viewBox=\"0 0 24 24\"\n",
              "       width=\"24px\">\n",
              "    <path d=\"M0 0h24v24H0V0z\" fill=\"none\"/>\n",
              "    <path d=\"M18.56 5.44l.94 2.06.94-2.06 2.06-.94-2.06-.94-.94-2.06-.94 2.06-2.06.94zm-11 1L8.5 8.5l.94-2.06 2.06-.94-2.06-.94L8.5 2.5l-.94 2.06-2.06.94zm10 10l.94 2.06.94-2.06 2.06-.94-2.06-.94-.94-2.06-.94 2.06-2.06.94z\"/><path d=\"M17.41 7.96l-1.37-1.37c-.4-.4-.92-.59-1.43-.59-.52 0-1.04.2-1.43.59L10.3 9.45l-7.72 7.72c-.78.78-.78 2.05 0 2.83L4 21.41c.39.39.9.59 1.41.59.51 0 1.02-.2 1.41-.59l7.78-7.78 2.81-2.81c.8-.78.8-2.07 0-2.86zM5.41 20L4 18.59l7.72-7.72 1.47 1.35L5.41 20z\"/>\n",
              "  </svg>\n",
              "      </button>\n",
              "      \n",
              "  <style>\n",
              "    .colab-df-container {\n",
              "      display:flex;\n",
              "      flex-wrap:wrap;\n",
              "      gap: 12px;\n",
              "    }\n",
              "\n",
              "    .colab-df-convert {\n",
              "      background-color: #E8F0FE;\n",
              "      border: none;\n",
              "      border-radius: 50%;\n",
              "      cursor: pointer;\n",
              "      display: none;\n",
              "      fill: #1967D2;\n",
              "      height: 32px;\n",
              "      padding: 0 0 0 0;\n",
              "      width: 32px;\n",
              "    }\n",
              "\n",
              "    .colab-df-convert:hover {\n",
              "      background-color: #E2EBFA;\n",
              "      box-shadow: 0px 1px 2px rgba(60, 64, 67, 0.3), 0px 1px 3px 1px rgba(60, 64, 67, 0.15);\n",
              "      fill: #174EA6;\n",
              "    }\n",
              "\n",
              "    [theme=dark] .colab-df-convert {\n",
              "      background-color: #3B4455;\n",
              "      fill: #D2E3FC;\n",
              "    }\n",
              "\n",
              "    [theme=dark] .colab-df-convert:hover {\n",
              "      background-color: #434B5C;\n",
              "      box-shadow: 0px 1px 3px 1px rgba(0, 0, 0, 0.15);\n",
              "      filter: drop-shadow(0px 1px 2px rgba(0, 0, 0, 0.3));\n",
              "      fill: #FFFFFF;\n",
              "    }\n",
              "  </style>\n",
              "\n",
              "      <script>\n",
              "        const buttonEl =\n",
              "          document.querySelector('#df-2e6fcfb5-1d24-4fa0-ba8b-64086f432ad9 button.colab-df-convert');\n",
              "        buttonEl.style.display =\n",
              "          google.colab.kernel.accessAllowed ? 'block' : 'none';\n",
              "\n",
              "        async function convertToInteractive(key) {\n",
              "          const element = document.querySelector('#df-2e6fcfb5-1d24-4fa0-ba8b-64086f432ad9');\n",
              "          const dataTable =\n",
              "            await google.colab.kernel.invokeFunction('convertToInteractive',\n",
              "                                                     [key], {});\n",
              "          if (!dataTable) return;\n",
              "\n",
              "          const docLinkHtml = 'Like what you see? Visit the ' +\n",
              "            '<a target=\"_blank\" href=https://colab.research.google.com/notebooks/data_table.ipynb>data table notebook</a>'\n",
              "            + ' to learn more about interactive tables.';\n",
              "          element.innerHTML = '';\n",
              "          dataTable['output_type'] = 'display_data';\n",
              "          await google.colab.output.renderOutput(dataTable, element);\n",
              "          const docLink = document.createElement('div');\n",
              "          docLink.innerHTML = docLinkHtml;\n",
              "          element.appendChild(docLink);\n",
              "        }\n",
              "      </script>\n",
              "    </div>\n",
              "  </div>\n",
              "  "
            ]
          },
          "metadata": {},
          "execution_count": 186
        }
      ]
    },
    {
      "cell_type": "code",
      "source": [
        "questoes_esp_sem_pont = remover(dados_espanhol.sem_code_tag, regex_pontuacao)\n",
        "questoes_esp_sem_pont_minus = minusculo(questoes_esp_sem_pont)\n",
        "questoes_esp_sem_pont_minus_dig = remover(questoes_esp_sem_pont_minus, regex_digitos)\n",
        "questoes_esp_sem_quebra_linha = substituir_por_espaco(questoes_esp_sem_pont_minus_dig, regex_quebra_linha)\n",
        "questoes_esp_sem_espaco_dupl = substituir_por_espaco(questoes_esp_sem_quebra_linha, regex_espaco)\n",
        "\n",
        "\n",
        "dados_espanhol[\"questoes_tratadas\"] = questoes_esp_sem_espaco_dupl\n",
        "dados_espanhol.head()\n"
      ],
      "metadata": {
        "colab": {
          "base_uri": "https://localhost:8080/",
          "height": 634
        },
        "id": "mXNLWXqb2p1V",
        "outputId": "b8fa7e0f-53f3-4876-98fc-1a39a3b5e420"
      },
      "execution_count": null,
      "outputs": [
        {
          "output_type": "execute_result",
          "data": {
            "text/plain": [
              "      Id                                             Título  \\\n",
              "0  18232              ¿Cómo evitar la inyección SQL en PHP?   \n",
              "1    197  ¿Por qué mis programas no pueden hacer cálculo...   \n",
              "2     36  ¿Cuál es la diferencia entre un inner y un out...   \n",
              "3  29177  ¿Por qué es considerado una mala práctica util...   \n",
              "4    142  Validar un email en JavaScript que acepte todo...   \n",
              "\n",
              "                                             Questão  \\\n",
              "0  <p>Las sentencias dinámicas son sentencias SQL...   \n",
              "1  <p>Unas veces los cálculos funcionan correctam...   \n",
              "2  <p>¿Cuál es la diferencia entre un <code>inner...   \n",
              "3  <p>La mayoría de nosotros decimos, (muchas vec...   \n",
              "4  <h3>Pregunta</h3>\\n\\n<p>¿Cómo validar un e-mai...   \n",
              "\n",
              "                                                Tags  Pontuação  \\\n",
              "0        <php><mysql><sql><seguridad><inyección-sql>        169   \n",
              "1   <matemáticas><coma-flotante><lenguaje-agnóstico>        141   \n",
              "2                                 <mysql><sql><join>         97   \n",
              "3  <variables><variables-globales><patrones-de-di...         89   \n",
              "4             <javascript><validación><email><regex>         87   \n",
              "\n",
              "   Visualizações                                       sem_code_tag  \\\n",
              "0          38614  Las sentencias dinámicas son sentencias SQL qu...   \n",
              "1           3860  Unas veces los cálculos funcionan correctament...   \n",
              "2          53627  ¿Cuál es la diferencia entre un CODE y un CODE...   \n",
              "3           9987  La mayoría de nosotros decimos, (muchas veces ...   \n",
              "4          73129  Pregunta\\n\\n¿Cómo validar un e-mail que acepte...   \n",
              "\n",
              "                                   questoes_tratadas  \n",
              "0  las sentencias dinámicas son sentencias sql qu...  \n",
              "1  unas veces los cálculos funcionan correctament...  \n",
              "2  cuál es la diferencia entre un code y un code ...  \n",
              "3  la mayoría de nosotros decimos muchas veces si...  \n",
              "4  pregunta cómo validar un email que acepte todo...  "
            ],
            "text/html": [
              "\n",
              "  <div id=\"df-f3d90208-30d4-44d5-8022-2202c5c94057\">\n",
              "    <div class=\"colab-df-container\">\n",
              "      <div>\n",
              "<style scoped>\n",
              "    .dataframe tbody tr th:only-of-type {\n",
              "        vertical-align: middle;\n",
              "    }\n",
              "\n",
              "    .dataframe tbody tr th {\n",
              "        vertical-align: top;\n",
              "    }\n",
              "\n",
              "    .dataframe thead th {\n",
              "        text-align: right;\n",
              "    }\n",
              "</style>\n",
              "<table border=\"1\" class=\"dataframe\">\n",
              "  <thead>\n",
              "    <tr style=\"text-align: right;\">\n",
              "      <th></th>\n",
              "      <th>Id</th>\n",
              "      <th>Título</th>\n",
              "      <th>Questão</th>\n",
              "      <th>Tags</th>\n",
              "      <th>Pontuação</th>\n",
              "      <th>Visualizações</th>\n",
              "      <th>sem_code_tag</th>\n",
              "      <th>questoes_tratadas</th>\n",
              "    </tr>\n",
              "  </thead>\n",
              "  <tbody>\n",
              "    <tr>\n",
              "      <th>0</th>\n",
              "      <td>18232</td>\n",
              "      <td>¿Cómo evitar la inyección SQL en PHP?</td>\n",
              "      <td>&lt;p&gt;Las sentencias dinámicas son sentencias SQL...</td>\n",
              "      <td>&lt;php&gt;&lt;mysql&gt;&lt;sql&gt;&lt;seguridad&gt;&lt;inyección-sql&gt;</td>\n",
              "      <td>169</td>\n",
              "      <td>38614</td>\n",
              "      <td>Las sentencias dinámicas son sentencias SQL qu...</td>\n",
              "      <td>las sentencias dinámicas son sentencias sql qu...</td>\n",
              "    </tr>\n",
              "    <tr>\n",
              "      <th>1</th>\n",
              "      <td>197</td>\n",
              "      <td>¿Por qué mis programas no pueden hacer cálculo...</td>\n",
              "      <td>&lt;p&gt;Unas veces los cálculos funcionan correctam...</td>\n",
              "      <td>&lt;matemáticas&gt;&lt;coma-flotante&gt;&lt;lenguaje-agnóstico&gt;</td>\n",
              "      <td>141</td>\n",
              "      <td>3860</td>\n",
              "      <td>Unas veces los cálculos funcionan correctament...</td>\n",
              "      <td>unas veces los cálculos funcionan correctament...</td>\n",
              "    </tr>\n",
              "    <tr>\n",
              "      <th>2</th>\n",
              "      <td>36</td>\n",
              "      <td>¿Cuál es la diferencia entre un inner y un out...</td>\n",
              "      <td>&lt;p&gt;¿Cuál es la diferencia entre un &lt;code&gt;inner...</td>\n",
              "      <td>&lt;mysql&gt;&lt;sql&gt;&lt;join&gt;</td>\n",
              "      <td>97</td>\n",
              "      <td>53627</td>\n",
              "      <td>¿Cuál es la diferencia entre un CODE y un CODE...</td>\n",
              "      <td>cuál es la diferencia entre un code y un code ...</td>\n",
              "    </tr>\n",
              "    <tr>\n",
              "      <th>3</th>\n",
              "      <td>29177</td>\n",
              "      <td>¿Por qué es considerado una mala práctica util...</td>\n",
              "      <td>&lt;p&gt;La mayoría de nosotros decimos, (muchas vec...</td>\n",
              "      <td>&lt;variables&gt;&lt;variables-globales&gt;&lt;patrones-de-di...</td>\n",
              "      <td>89</td>\n",
              "      <td>9987</td>\n",
              "      <td>La mayoría de nosotros decimos, (muchas veces ...</td>\n",
              "      <td>la mayoría de nosotros decimos muchas veces si...</td>\n",
              "    </tr>\n",
              "    <tr>\n",
              "      <th>4</th>\n",
              "      <td>142</td>\n",
              "      <td>Validar un email en JavaScript que acepte todo...</td>\n",
              "      <td>&lt;h3&gt;Pregunta&lt;/h3&gt;\\n\\n&lt;p&gt;¿Cómo validar un e-mai...</td>\n",
              "      <td>&lt;javascript&gt;&lt;validación&gt;&lt;email&gt;&lt;regex&gt;</td>\n",
              "      <td>87</td>\n",
              "      <td>73129</td>\n",
              "      <td>Pregunta\\n\\n¿Cómo validar un e-mail que acepte...</td>\n",
              "      <td>pregunta cómo validar un email que acepte todo...</td>\n",
              "    </tr>\n",
              "  </tbody>\n",
              "</table>\n",
              "</div>\n",
              "      <button class=\"colab-df-convert\" onclick=\"convertToInteractive('df-f3d90208-30d4-44d5-8022-2202c5c94057')\"\n",
              "              title=\"Convert this dataframe to an interactive table.\"\n",
              "              style=\"display:none;\">\n",
              "        \n",
              "  <svg xmlns=\"http://www.w3.org/2000/svg\" height=\"24px\"viewBox=\"0 0 24 24\"\n",
              "       width=\"24px\">\n",
              "    <path d=\"M0 0h24v24H0V0z\" fill=\"none\"/>\n",
              "    <path d=\"M18.56 5.44l.94 2.06.94-2.06 2.06-.94-2.06-.94-.94-2.06-.94 2.06-2.06.94zm-11 1L8.5 8.5l.94-2.06 2.06-.94-2.06-.94L8.5 2.5l-.94 2.06-2.06.94zm10 10l.94 2.06.94-2.06 2.06-.94-2.06-.94-.94-2.06-.94 2.06-2.06.94z\"/><path d=\"M17.41 7.96l-1.37-1.37c-.4-.4-.92-.59-1.43-.59-.52 0-1.04.2-1.43.59L10.3 9.45l-7.72 7.72c-.78.78-.78 2.05 0 2.83L4 21.41c.39.39.9.59 1.41.59.51 0 1.02-.2 1.41-.59l7.78-7.78 2.81-2.81c.8-.78.8-2.07 0-2.86zM5.41 20L4 18.59l7.72-7.72 1.47 1.35L5.41 20z\"/>\n",
              "  </svg>\n",
              "      </button>\n",
              "      \n",
              "  <style>\n",
              "    .colab-df-container {\n",
              "      display:flex;\n",
              "      flex-wrap:wrap;\n",
              "      gap: 12px;\n",
              "    }\n",
              "\n",
              "    .colab-df-convert {\n",
              "      background-color: #E8F0FE;\n",
              "      border: none;\n",
              "      border-radius: 50%;\n",
              "      cursor: pointer;\n",
              "      display: none;\n",
              "      fill: #1967D2;\n",
              "      height: 32px;\n",
              "      padding: 0 0 0 0;\n",
              "      width: 32px;\n",
              "    }\n",
              "\n",
              "    .colab-df-convert:hover {\n",
              "      background-color: #E2EBFA;\n",
              "      box-shadow: 0px 1px 2px rgba(60, 64, 67, 0.3), 0px 1px 3px 1px rgba(60, 64, 67, 0.15);\n",
              "      fill: #174EA6;\n",
              "    }\n",
              "\n",
              "    [theme=dark] .colab-df-convert {\n",
              "      background-color: #3B4455;\n",
              "      fill: #D2E3FC;\n",
              "    }\n",
              "\n",
              "    [theme=dark] .colab-df-convert:hover {\n",
              "      background-color: #434B5C;\n",
              "      box-shadow: 0px 1px 3px 1px rgba(0, 0, 0, 0.15);\n",
              "      filter: drop-shadow(0px 1px 2px rgba(0, 0, 0, 0.3));\n",
              "      fill: #FFFFFF;\n",
              "    }\n",
              "  </style>\n",
              "\n",
              "      <script>\n",
              "        const buttonEl =\n",
              "          document.querySelector('#df-f3d90208-30d4-44d5-8022-2202c5c94057 button.colab-df-convert');\n",
              "        buttonEl.style.display =\n",
              "          google.colab.kernel.accessAllowed ? 'block' : 'none';\n",
              "\n",
              "        async function convertToInteractive(key) {\n",
              "          const element = document.querySelector('#df-f3d90208-30d4-44d5-8022-2202c5c94057');\n",
              "          const dataTable =\n",
              "            await google.colab.kernel.invokeFunction('convertToInteractive',\n",
              "                                                     [key], {});\n",
              "          if (!dataTable) return;\n",
              "\n",
              "          const docLinkHtml = 'Like what you see? Visit the ' +\n",
              "            '<a target=\"_blank\" href=https://colab.research.google.com/notebooks/data_table.ipynb>data table notebook</a>'\n",
              "            + ' to learn more about interactive tables.';\n",
              "          element.innerHTML = '';\n",
              "          dataTable['output_type'] = 'display_data';\n",
              "          await google.colab.output.renderOutput(dataTable, element);\n",
              "          const docLink = document.createElement('div');\n",
              "          docLink.innerHTML = docLinkHtml;\n",
              "          element.appendChild(docLink);\n",
              "        }\n",
              "      </script>\n",
              "    </div>\n",
              "  </div>\n",
              "  "
            ]
          },
          "metadata": {},
          "execution_count": 187
        }
      ]
    },
    {
      "cell_type": "code",
      "source": [
        "questoes_ing_sem_pont = remover(dados_ingles.sem_code_tag, regex_pontuacao)\n",
        "questoes_ing_sem_pont_minus = minusculo(questoes_ing_sem_pont)\n",
        "questoes_ing_sem_pont_minus_dig = remover(questoes_ing_sem_pont_minus, regex_digitos)\n",
        "questoes_ing_sem_quebra_linha = substituir_por_espaco(questoes_ing_sem_pont_minus_dig, regex_quebra_linha)\n",
        "questoes_ing_sem_espaco_dupl = substituir_por_espaco(questoes_ing_sem_quebra_linha, regex_espaco)\n",
        "\n",
        "\n",
        "dados_ingles[\"questoes_tratadas\"] = questoes_ing_sem_espaco_dupl\n",
        "dados_ingles.head()"
      ],
      "metadata": {
        "colab": {
          "base_uri": "https://localhost:8080/",
          "height": 545
        },
        "id": "3bK2xu4t4Q_f",
        "outputId": "3c30492e-2d43-4cba-adb9-3c93b12347e6"
      },
      "execution_count": null,
      "outputs": [
        {
          "output_type": "execute_result",
          "data": {
            "text/plain": [
              "         Id                                             Título  \\\n",
              "0  11227809  Why is it faster to process a sorted array tha...   \n",
              "1    927358  How do I undo the most recent local commits in...   \n",
              "2   2003505  How do I delete a Git branch locally and remot...   \n",
              "3    292357  What is the difference between 'git pull' and ...   \n",
              "4    477816             What is the correct JSON content type?   \n",
              "\n",
              "                                             Questão  \\\n",
              "0  <p>Here is a piece of C++ code that seems very...   \n",
              "1  <p>I accidentally committed the wrong files to...   \n",
              "2  <p>I want to delete a branch both locally and ...   \n",
              "3  <blockquote>\\n  <p><strong>Moderator Note:</st...   \n",
              "4  <p>I've been messing around with <a href=\"http...   \n",
              "\n",
              "                                                Tags  Pontuação  \\\n",
              "0  <java><c++><performance><optimization><branch-...      23057   \n",
              "1           <git><version-control><git-commit><undo>      19640   \n",
              "2                      <git><git-branch><git-remote>      15249   \n",
              "3                         <git><git-pull><git-fetch>      11008   \n",
              "4                 <json><http-headers><content-type>       9701   \n",
              "\n",
              "   Visualizações                                       sem_code_tag  \\\n",
              "0        1358574  Here is a piece of C++ code that seems very pe...   \n",
              "1        7906137  I accidentally committed the wrong files to Gi...   \n",
              "2        6940906  I want to delete a branch both locally and rem...   \n",
              "3        2543052  \\n  Moderator Note: Given that this question h...   \n",
              "4        2478940  I've been messing around with JSON for some ti...   \n",
              "\n",
              "                                   questoes_tratadas  \n",
              "0  here is a piece of c code that seems very pecu...  \n",
              "1  i accidentally committed the wrong files to gi...  \n",
              "2  i want to delete a branch both locally and rem...  \n",
              "3   moderator note given that this question has a...  \n",
              "4  ive been messing around with json for some tim...  "
            ],
            "text/html": [
              "\n",
              "  <div id=\"df-22d6498a-310f-45da-859e-0561f23145b7\">\n",
              "    <div class=\"colab-df-container\">\n",
              "      <div>\n",
              "<style scoped>\n",
              "    .dataframe tbody tr th:only-of-type {\n",
              "        vertical-align: middle;\n",
              "    }\n",
              "\n",
              "    .dataframe tbody tr th {\n",
              "        vertical-align: top;\n",
              "    }\n",
              "\n",
              "    .dataframe thead th {\n",
              "        text-align: right;\n",
              "    }\n",
              "</style>\n",
              "<table border=\"1\" class=\"dataframe\">\n",
              "  <thead>\n",
              "    <tr style=\"text-align: right;\">\n",
              "      <th></th>\n",
              "      <th>Id</th>\n",
              "      <th>Título</th>\n",
              "      <th>Questão</th>\n",
              "      <th>Tags</th>\n",
              "      <th>Pontuação</th>\n",
              "      <th>Visualizações</th>\n",
              "      <th>sem_code_tag</th>\n",
              "      <th>questoes_tratadas</th>\n",
              "    </tr>\n",
              "  </thead>\n",
              "  <tbody>\n",
              "    <tr>\n",
              "      <th>0</th>\n",
              "      <td>11227809</td>\n",
              "      <td>Why is it faster to process a sorted array tha...</td>\n",
              "      <td>&lt;p&gt;Here is a piece of C++ code that seems very...</td>\n",
              "      <td>&lt;java&gt;&lt;c++&gt;&lt;performance&gt;&lt;optimization&gt;&lt;branch-...</td>\n",
              "      <td>23057</td>\n",
              "      <td>1358574</td>\n",
              "      <td>Here is a piece of C++ code that seems very pe...</td>\n",
              "      <td>here is a piece of c code that seems very pecu...</td>\n",
              "    </tr>\n",
              "    <tr>\n",
              "      <th>1</th>\n",
              "      <td>927358</td>\n",
              "      <td>How do I undo the most recent local commits in...</td>\n",
              "      <td>&lt;p&gt;I accidentally committed the wrong files to...</td>\n",
              "      <td>&lt;git&gt;&lt;version-control&gt;&lt;git-commit&gt;&lt;undo&gt;</td>\n",
              "      <td>19640</td>\n",
              "      <td>7906137</td>\n",
              "      <td>I accidentally committed the wrong files to Gi...</td>\n",
              "      <td>i accidentally committed the wrong files to gi...</td>\n",
              "    </tr>\n",
              "    <tr>\n",
              "      <th>2</th>\n",
              "      <td>2003505</td>\n",
              "      <td>How do I delete a Git branch locally and remot...</td>\n",
              "      <td>&lt;p&gt;I want to delete a branch both locally and ...</td>\n",
              "      <td>&lt;git&gt;&lt;git-branch&gt;&lt;git-remote&gt;</td>\n",
              "      <td>15249</td>\n",
              "      <td>6940906</td>\n",
              "      <td>I want to delete a branch both locally and rem...</td>\n",
              "      <td>i want to delete a branch both locally and rem...</td>\n",
              "    </tr>\n",
              "    <tr>\n",
              "      <th>3</th>\n",
              "      <td>292357</td>\n",
              "      <td>What is the difference between 'git pull' and ...</td>\n",
              "      <td>&lt;blockquote&gt;\\n  &lt;p&gt;&lt;strong&gt;Moderator Note:&lt;/st...</td>\n",
              "      <td>&lt;git&gt;&lt;git-pull&gt;&lt;git-fetch&gt;</td>\n",
              "      <td>11008</td>\n",
              "      <td>2543052</td>\n",
              "      <td>\\n  Moderator Note: Given that this question h...</td>\n",
              "      <td>moderator note given that this question has a...</td>\n",
              "    </tr>\n",
              "    <tr>\n",
              "      <th>4</th>\n",
              "      <td>477816</td>\n",
              "      <td>What is the correct JSON content type?</td>\n",
              "      <td>&lt;p&gt;I've been messing around with &lt;a href=\"http...</td>\n",
              "      <td>&lt;json&gt;&lt;http-headers&gt;&lt;content-type&gt;</td>\n",
              "      <td>9701</td>\n",
              "      <td>2478940</td>\n",
              "      <td>I've been messing around with JSON for some ti...</td>\n",
              "      <td>ive been messing around with json for some tim...</td>\n",
              "    </tr>\n",
              "  </tbody>\n",
              "</table>\n",
              "</div>\n",
              "      <button class=\"colab-df-convert\" onclick=\"convertToInteractive('df-22d6498a-310f-45da-859e-0561f23145b7')\"\n",
              "              title=\"Convert this dataframe to an interactive table.\"\n",
              "              style=\"display:none;\">\n",
              "        \n",
              "  <svg xmlns=\"http://www.w3.org/2000/svg\" height=\"24px\"viewBox=\"0 0 24 24\"\n",
              "       width=\"24px\">\n",
              "    <path d=\"M0 0h24v24H0V0z\" fill=\"none\"/>\n",
              "    <path d=\"M18.56 5.44l.94 2.06.94-2.06 2.06-.94-2.06-.94-.94-2.06-.94 2.06-2.06.94zm-11 1L8.5 8.5l.94-2.06 2.06-.94-2.06-.94L8.5 2.5l-.94 2.06-2.06.94zm10 10l.94 2.06.94-2.06 2.06-.94-2.06-.94-.94-2.06-.94 2.06-2.06.94z\"/><path d=\"M17.41 7.96l-1.37-1.37c-.4-.4-.92-.59-1.43-.59-.52 0-1.04.2-1.43.59L10.3 9.45l-7.72 7.72c-.78.78-.78 2.05 0 2.83L4 21.41c.39.39.9.59 1.41.59.51 0 1.02-.2 1.41-.59l7.78-7.78 2.81-2.81c.8-.78.8-2.07 0-2.86zM5.41 20L4 18.59l7.72-7.72 1.47 1.35L5.41 20z\"/>\n",
              "  </svg>\n",
              "      </button>\n",
              "      \n",
              "  <style>\n",
              "    .colab-df-container {\n",
              "      display:flex;\n",
              "      flex-wrap:wrap;\n",
              "      gap: 12px;\n",
              "    }\n",
              "\n",
              "    .colab-df-convert {\n",
              "      background-color: #E8F0FE;\n",
              "      border: none;\n",
              "      border-radius: 50%;\n",
              "      cursor: pointer;\n",
              "      display: none;\n",
              "      fill: #1967D2;\n",
              "      height: 32px;\n",
              "      padding: 0 0 0 0;\n",
              "      width: 32px;\n",
              "    }\n",
              "\n",
              "    .colab-df-convert:hover {\n",
              "      background-color: #E2EBFA;\n",
              "      box-shadow: 0px 1px 2px rgba(60, 64, 67, 0.3), 0px 1px 3px 1px rgba(60, 64, 67, 0.15);\n",
              "      fill: #174EA6;\n",
              "    }\n",
              "\n",
              "    [theme=dark] .colab-df-convert {\n",
              "      background-color: #3B4455;\n",
              "      fill: #D2E3FC;\n",
              "    }\n",
              "\n",
              "    [theme=dark] .colab-df-convert:hover {\n",
              "      background-color: #434B5C;\n",
              "      box-shadow: 0px 1px 3px 1px rgba(0, 0, 0, 0.15);\n",
              "      filter: drop-shadow(0px 1px 2px rgba(0, 0, 0, 0.3));\n",
              "      fill: #FFFFFF;\n",
              "    }\n",
              "  </style>\n",
              "\n",
              "      <script>\n",
              "        const buttonEl =\n",
              "          document.querySelector('#df-22d6498a-310f-45da-859e-0561f23145b7 button.colab-df-convert');\n",
              "        buttonEl.style.display =\n",
              "          google.colab.kernel.accessAllowed ? 'block' : 'none';\n",
              "\n",
              "        async function convertToInteractive(key) {\n",
              "          const element = document.querySelector('#df-22d6498a-310f-45da-859e-0561f23145b7');\n",
              "          const dataTable =\n",
              "            await google.colab.kernel.invokeFunction('convertToInteractive',\n",
              "                                                     [key], {});\n",
              "          if (!dataTable) return;\n",
              "\n",
              "          const docLinkHtml = 'Like what you see? Visit the ' +\n",
              "            '<a target=\"_blank\" href=https://colab.research.google.com/notebooks/data_table.ipynb>data table notebook</a>'\n",
              "            + ' to learn more about interactive tables.';\n",
              "          element.innerHTML = '';\n",
              "          dataTable['output_type'] = 'display_data';\n",
              "          await google.colab.output.renderOutput(dataTable, element);\n",
              "          const docLink = document.createElement('div');\n",
              "          docLink.innerHTML = docLinkHtml;\n",
              "          element.appendChild(docLink);\n",
              "        }\n",
              "      </script>\n",
              "    </div>\n",
              "  </div>\n",
              "  "
            ]
          },
          "metadata": {},
          "execution_count": 188
        }
      ]
    },
    {
      "cell_type": "markdown",
      "source": [
        "#Divisão em N-grams e treinamento modelo MLE#"
      ],
      "metadata": {
        "id": "jPc9kpChjQGK"
      }
    },
    {
      "cell_type": "code",
      "source": [
        "!pip install nltk\n",
        "import nltk\n"
      ],
      "metadata": {
        "colab": {
          "base_uri": "https://localhost:8080/"
        },
        "id": "sWHXkcOkVmlD",
        "outputId": "00c9a37c-fae4-41e4-fcb8-4d5a926d76d6"
      },
      "execution_count": null,
      "outputs": [
        {
          "output_type": "stream",
          "name": "stdout",
          "text": [
            "Looking in indexes: https://pypi.org/simple, https://us-python.pkg.dev/colab-wheels/public/simple/\n",
            "Requirement already satisfied: nltk in /usr/local/lib/python3.8/dist-packages (3.7)\n",
            "Requirement already satisfied: tqdm in /usr/local/lib/python3.8/dist-packages (from nltk) (4.64.1)\n",
            "Requirement already satisfied: regex>=2021.8.3 in /usr/local/lib/python3.8/dist-packages (from nltk) (2022.6.2)\n",
            "Requirement already satisfied: click in /usr/local/lib/python3.8/dist-packages (from nltk) (7.1.2)\n",
            "Requirement already satisfied: joblib in /usr/local/lib/python3.8/dist-packages (from nltk) (1.2.0)\n"
          ]
        }
      ]
    },
    {
      "cell_type": "code",
      "source": [
        "from nltk.util import bigrams"
      ],
      "metadata": {
        "id": "_wBlpqXK4lNu"
      },
      "execution_count": null,
      "outputs": []
    },
    {
      "cell_type": "code",
      "source": [
        "bigrams_teste = \"alura\"\n",
        "print(list(bigrams(bigrams_teste)))"
      ],
      "metadata": {
        "colab": {
          "base_uri": "https://localhost:8080/"
        },
        "id": "oBwxqIVfVeP7",
        "outputId": "b5dbe97d-6f66-4acd-d305-69b5de49aa9f"
      },
      "execution_count": null,
      "outputs": [
        {
          "output_type": "stream",
          "name": "stdout",
          "text": [
            "[('a', 'l'), ('l', 'u'), ('u', 'r'), ('r', 'a')]\n"
          ]
        }
      ]
    },
    {
      "cell_type": "code",
      "source": [
        "from nltk.lm.preprocessing import pad_both_ends\n",
        "\n",
        "print(list(bigrams(pad_both_ends(bigrams_teste, n = 2)))) # utilizado para adicionar um fake char no início \n",
        "                                                          # final quando forem gerar os bi-gramas"
      ],
      "metadata": {
        "colab": {
          "base_uri": "https://localhost:8080/"
        },
        "id": "hjdq8g4LXwYR",
        "outputId": "37919dd1-41a2-488b-c2bb-7ebce7e293a3"
      },
      "execution_count": null,
      "outputs": [
        {
          "output_type": "stream",
          "name": "stdout",
          "text": [
            "[('<s>', 'a'), ('a', 'l'), ('l', 'u'), ('u', 'r'), ('r', 'a'), ('a', '</s>')]\n"
          ]
        }
      ]
    },
    {
      "cell_type": "code",
      "source": [
        "dados_portugues[\"idioma\"] = \"port\"\n",
        "dados_ingles[\"idioma\"] = \"ing\"\n",
        "dados_espanhol[\"idioma\"] = \"esp\""
      ],
      "metadata": {
        "id": "bYJhFiljZvBg"
      },
      "execution_count": null,
      "outputs": []
    },
    {
      "cell_type": "code",
      "source": [
        "len(dados_espanhol)"
      ],
      "metadata": {
        "colab": {
          "base_uri": "https://localhost:8080/"
        },
        "id": "wy6bDW95P0Gq",
        "outputId": "6b5fb874-edc1-410a-e958-dfb951095308"
      },
      "execution_count": null,
      "outputs": [
        {
          "output_type": "execute_result",
          "data": {
            "text/plain": [
              "500"
            ]
          },
          "metadata": {},
          "execution_count": 194
        }
      ]
    },
    {
      "cell_type": "code",
      "source": [
        "from sklearn.model_selection import train_test_split # divide em dados de treino e dados de teste\n",
        "\n",
        "port_treino, port_teste = train_test_split(dados_portugues.questoes_tratadas, test_size = 0.2,\n",
        "                                           random_state = 123)\n",
        "\n",
        "esp_treino, esp_teste = train_test_split(dados_espanhol.questoes_tratadas, test_size = 0.2, \n",
        "                                           random_state = 123)\n",
        "\n",
        "ing_treino, ing_teste = train_test_split(dados_ingles.questoes_tratadas, test_size = 0.2, \n",
        "                                           random_state = 123)"
      ],
      "metadata": {
        "id": "padNuhg-PeK4"
      },
      "execution_count": null,
      "outputs": []
    },
    {
      "cell_type": "code",
      "source": [
        "len(esp_treino)"
      ],
      "metadata": {
        "colab": {
          "base_uri": "https://localhost:8080/"
        },
        "id": "Orioq8BPQF_v",
        "outputId": "a408d0db-f57f-4887-ecb0-ec75c0565c4e"
      },
      "execution_count": null,
      "outputs": [
        {
          "output_type": "execute_result",
          "data": {
            "text/plain": [
              "400"
            ]
          },
          "metadata": {},
          "execution_count": 196
        }
      ]
    },
    {
      "cell_type": "code",
      "source": [
        "# unindo todas as questões de treino numa variável\n",
        "todas_questoes_port = ' '.join(port_treino)\n",
        "todas_questoes_ing = ' '.join(ing_treino)\n",
        "todas_questoes_esp = ' '.join(esp_treino)"
      ],
      "metadata": {
        "id": "u8DM5NLMQJc8"
      },
      "execution_count": null,
      "outputs": []
    },
    {
      "cell_type": "code",
      "source": [
        "from nltk.tokenize import WhitespaceTokenizer # tokenizando por espaços em branco\n",
        "todas_palavras_port = WhitespaceTokenizer().tokenize(todas_questoes_port)\n",
        "todas_palavras_ing = WhitespaceTokenizer().tokenize(todas_questoes_ing)\n",
        "todas_palavras_esp = WhitespaceTokenizer().tokenize(todas_questoes_esp)"
      ],
      "metadata": {
        "id": "X4KOXDm1Q0mT"
      },
      "execution_count": null,
      "outputs": []
    },
    {
      "cell_type": "code",
      "source": [
        "from nltk.lm.preprocessing import padded_everygram_pipeline # função para dicionar fake char e dividir em bi-gramas\n",
        "\n",
        "port_treino_bigram, vocab_port = padded_everygram_pipeline(2, todas_palavras_port)\n",
        "ing_treino_bigram, vocab_ing = padded_everygram_pipeline(2, todas_palavras_ing)\n",
        "esp_treino_bigram, vocab_esp = padded_everygram_pipeline(2, todas_palavras_esp)"
      ],
      "metadata": {
        "id": "o9dFLcSIRUpa"
      },
      "execution_count": null,
      "outputs": []
    },
    {
      "cell_type": "code",
      "source": [
        "from nltk.lm import MLE # função para treinar o modelo MLE\n",
        "\n",
        "def treinar_modelo_mle(lista_textos):\n",
        "  todas_questoes = ' '.join(lista_textos)\n",
        "  todas_palavras = WhitespaceTokenizer().tokenize(todas_questoes)\n",
        "  bigrams, vocabulario = padded_everygram_pipeline(2, todas_palavras)\n",
        "  modelo = MLE(2)\n",
        "  modelo.fit(bigrams, vocabulario)\n",
        "  \n",
        "  return modelo\n"
      ],
      "metadata": {
        "id": "az3BDIx7xJoE"
      },
      "execution_count": null,
      "outputs": []
    },
    {
      "cell_type": "code",
      "source": [
        "# treinando o modelo em cada língua\n",
        "modelo_port = treinar_modelo_mle(port_treino)\n",
        "modelo_ing = treinar_modelo_mle(ing_treino)\n",
        "modelo_esp = treinar_modelo_mle(esp_treino)"
      ],
      "metadata": {
        "id": "VOsR0YPmG_Tg"
      },
      "execution_count": null,
      "outputs": []
    },
    {
      "cell_type": "code",
      "source": [
        "modelo_port.generate(num_words=6) # função para gerar palavra "
      ],
      "metadata": {
        "colab": {
          "base_uri": "https://localhost:8080/"
        },
        "id": "QEAof4JxuU81",
        "outputId": "86abd9ca-4911-4703-ef9e-3dce17e7a206"
      },
      "execution_count": null,
      "outputs": [
        {
          "output_type": "execute_result",
          "data": {
            "text/plain": [
              "['</s>', 'e', 'n', 'd', 'e', 'n']"
            ]
          },
          "metadata": {},
          "execution_count": 202
        }
      ]
    },
    {
      "cell_type": "code",
      "source": [
        "from nltk.lm import NgramCounter\n",
        "\n",
        "#frequencia dos bi-gramas nas palavras iniciadas por M\n",
        "modelo_port.counts[['m']].items()"
      ],
      "metadata": {
        "colab": {
          "base_uri": "https://localhost:8080/"
        },
        "id": "jNmpyxDiueuN",
        "outputId": "9d34bfee-b5a8-49f9-ab2d-aa963ba22554"
      },
      "execution_count": null,
      "outputs": [
        {
          "output_type": "execute_result",
          "data": {
            "text/plain": [
              "dict_items([('</s>', 2741), ('a', 2052), ('b', 144), ('p', 722), ('o', 854), ('e', 1503), ('u', 227), ('v', 16), ('í', 13), ('i', 290), ('ó', 37), ('â', 11), ('l', 23), ('é', 76), ('ú', 5), ('ã', 4), ('á', 32), ('s', 9), ('m', 25), ('g', 4), ('w', 1), ('_', 1), ('y', 10), ('d', 3)])"
            ]
          },
          "metadata": {},
          "execution_count": 203
        }
      ]
    },
    {
      "cell_type": "markdown",
      "source": [
        "#Cálculo da Perplexidade#\n",
        "Para analisar a qualidade do modelo, quanto menor a perplexidade melhor o modelo para o determinado texto.\n",
        "\n"
      ],
      "metadata": {
        "id": "ie8FBM-ujdhp"
      }
    },
    {
      "cell_type": "code",
      "source": [
        "texto = \"bom dia\"\n",
        "palavras = WhitespaceTokenizer().tokenize(texto)\n",
        "palavras_fakechar = [list(pad_both_ends(palavra, n = 2)) for palavra in palavras]\n",
        "palavras_bigramns = [list(bigrams(palavra)) for palavra in palavras_fakechar]\n",
        "print(palavras_bigramns)"
      ],
      "metadata": {
        "colab": {
          "base_uri": "https://localhost:8080/"
        },
        "id": "DJJKeXLG5-7A",
        "outputId": "0c0020f4-bc8d-437e-9b73-e8f79ce0c4c2"
      },
      "execution_count": null,
      "outputs": [
        {
          "output_type": "stream",
          "name": "stdout",
          "text": [
            "[[('<s>', 'b'), ('b', 'o'), ('o', 'm'), ('m', '</s>')], [('<s>', 'd'), ('d', 'i'), ('i', 'a'), ('a', '</s>')]]\n"
          ]
        }
      ]
    },
    {
      "cell_type": "code",
      "source": [
        "print(modelo_port.perplexity(palavras_bigramns[0]))\n",
        "print(modelo_port.perplexity(palavras_bigramns[1]))"
      ],
      "metadata": {
        "colab": {
          "base_uri": "https://localhost:8080/"
        },
        "id": "295okWp-6DPg",
        "outputId": "02b38031-35a7-42c6-9adf-6994090cfed8"
      },
      "execution_count": null,
      "outputs": [
        {
          "output_type": "stream",
          "name": "stdout",
          "text": [
            "15.299125474590992\n",
            "8.118290440853844\n"
          ]
        }
      ]
    },
    {
      "cell_type": "code",
      "source": [
        "def calcular_perplexidade(modelo, texto): #função para calcular perplexidade\n",
        "  \n",
        "  perplexidade = 0\n",
        "  palavras = WhitespaceTokenizer().tokenize(texto)\n",
        "  palavra_fakechar = [list(pad_both_ends(palavra, n = 2)) for palavra in palavras]\n",
        "  palavras_bigrams = [list(bigrams(palavra)) for palavra in palavra_fakechar]\n",
        "\n",
        "  for palavra in palavras_bigrams:\n",
        "    perplexidade += modelo.perplexity(palavra)\n",
        "\n",
        "  return perplexidade"
      ],
      "metadata": {
        "id": "DE2p0kH9H4GV"
      },
      "execution_count": null,
      "outputs": []
    },
    {
      "cell_type": "code",
      "source": [
        "print(calcular_perplexidade(modelo_ing, \"good morning\"))"
      ],
      "metadata": {
        "colab": {
          "base_uri": "https://localhost:8080/"
        },
        "id": "lr7qj8B5JoQm",
        "outputId": "40b1fe18-4ff8-4736-f626-2d068ad5f2d8"
      },
      "execution_count": null,
      "outputs": [
        {
          "output_type": "stream",
          "name": "stdout",
          "text": [
            "30.1620889594439\n"
          ]
        }
      ]
    },
    {
      "cell_type": "code",
      "source": [
        "print(calcular_perplexidade(modelo_port, port_teste.iloc[0]))\n",
        "print(calcular_perplexidade(modelo_ing, port_teste.iloc[0])) # perplexidade é infinita quando existem palavras desconhecidas \n",
        "                                                            # para o modelo no vocabulário"
      ],
      "metadata": {
        "colab": {
          "base_uri": "https://localhost:8080/"
        },
        "id": "cn8bhotgI72G",
        "outputId": "8a85d927-1b2f-4db6-9c15-0b8c5b373a37"
      },
      "execution_count": null,
      "outputs": [
        {
          "output_type": "stream",
          "name": "stdout",
          "text": [
            "2006.9786364086417\n",
            "inf\n"
          ]
        }
      ]
    },
    {
      "cell_type": "markdown",
      "source": [
        "#Treinamento modelo de Laplace#\n",
        "Modelo utilizado para solucionar perplexidade infinita"
      ],
      "metadata": {
        "id": "o2lwnd70jh_i"
      }
    },
    {
      "cell_type": "code",
      "source": [
        "from nltk.lm import Laplace\n",
        "\n",
        "def treinar_modelo_laplace(lista_textos): # função para treinar modelo de Laplace\n",
        "  todas_questoes = ' '.join(lista_textos)\n",
        "  todas_palavras = WhitespaceTokenizer().tokenize(todas_questoes)\n",
        "  bigrams, vocabulario = padded_everygram_pipeline(2, todas_palavras)\n",
        "  modelo = Laplace(2)\n",
        "  modelo.fit(bigrams, vocabulario)\n",
        "  \n",
        "  return modelo"
      ],
      "metadata": {
        "id": "ou0PtqpmKl0E"
      },
      "execution_count": null,
      "outputs": []
    },
    {
      "cell_type": "code",
      "source": [
        "modelo_ing_Laplace = treinar_modelo_laplace(ing_treino)\n",
        "print(calcular_perplexidade(modelo_ing_Laplace, port_teste.iloc[0]))"
      ],
      "metadata": {
        "colab": {
          "base_uri": "https://localhost:8080/"
        },
        "id": "qZNqYsnhKZ0I",
        "outputId": "f7fd87e6-3a93-4c43-f718-a068428c1d07"
      },
      "execution_count": null,
      "outputs": [
        {
          "output_type": "stream",
          "name": "stdout",
          "text": [
            "5876.837588345698\n"
          ]
        }
      ]
    },
    {
      "cell_type": "code",
      "source": [
        "modelo_port_Laplace = treinar_modelo_laplace(port_treino)\n",
        "print(calcular_perplexidade(modelo_port_Laplace, port_teste.iloc[0]))"
      ],
      "metadata": {
        "colab": {
          "base_uri": "https://localhost:8080/"
        },
        "id": "pH9THu0SK8ho",
        "outputId": "63b8ba53-1c9b-42f3-9c18-cb2c4d4c89f9"
      },
      "execution_count": null,
      "outputs": [
        {
          "output_type": "stream",
          "name": "stdout",
          "text": [
            "2009.1937946178912\n"
          ]
        }
      ]
    },
    {
      "cell_type": "code",
      "source": [
        "modelo_esp_Laplace = treinar_modelo_laplace(esp_treino)\n",
        "print(calcular_perplexidade(modelo_esp_Laplace, port_teste.iloc[0]))"
      ],
      "metadata": {
        "colab": {
          "base_uri": "https://localhost:8080/"
        },
        "id": "un6h_csTLQfT",
        "outputId": "ef11ecfe-ccc4-4361-f7bc-a5c12afb9eac"
      },
      "execution_count": null,
      "outputs": [
        {
          "output_type": "stream",
          "name": "stdout",
          "text": [
            "3488.5698949157722\n"
          ]
        }
      ]
    },
    {
      "cell_type": "markdown",
      "source": [
        "#Testando os modelos e atribuindo idiomas#"
      ],
      "metadata": {
        "id": "a19ZX8zNjrBZ"
      }
    },
    {
      "cell_type": "code",
      "source": [
        "def atribui_idioma(lista_textos):\n",
        "  idioma = []\n",
        "  for texto in lista_textos:\n",
        "    portugues = calcular_perplexidade(modelo_port_Laplace, texto)\n",
        "    ingles = calcular_perplexidade(modelo_ing_Laplace, texto)\n",
        "    espanhol = calcular_perplexidade(modelo_esp_Laplace, texto)\n",
        "    if ingles >= portugues <= espanhol:\n",
        "      idioma.append(\"portugues\")\n",
        "    elif portugues > ingles < espanhol:\n",
        "      idioma.append(\"ingles\")\n",
        "    else:\n",
        "      idioma.append(\"espanhol\")\n",
        "\n",
        "  return idioma"
      ],
      "metadata": {
        "id": "HpwG0uVVLzcF"
      },
      "execution_count": null,
      "outputs": []
    },
    {
      "cell_type": "code",
      "source": [
        "resultados_portugues = atribui_idioma(port_teste)\n",
        "taxa_portugues = (resultados_portugues.count(\"portugues\")/len(resultados_portugues))*100\n",
        "print(\"portugues\", taxa_portugues, \"%\")"
      ],
      "metadata": {
        "colab": {
          "base_uri": "https://localhost:8080/"
        },
        "id": "l8nkRsT1NZiq",
        "outputId": "6ede8565-490c-4c6e-9ec3-48dd49178f36"
      },
      "execution_count": null,
      "outputs": [
        {
          "output_type": "stream",
          "name": "stdout",
          "text": [
            "portugues 100.0 %\n"
          ]
        }
      ]
    },
    {
      "cell_type": "code",
      "source": [
        "resultados_ingles = atribui_idioma(ing_teste)\n",
        "taxa_ingles = (resultados_ingles.count(\"ingles\")/len(resultados_ingles))*100\n",
        "print(\"ingles\", taxa_ingles, \"%\")"
      ],
      "metadata": {
        "colab": {
          "base_uri": "https://localhost:8080/"
        },
        "id": "LfokrLEiN8U4",
        "outputId": "66fae7dc-a144-46e9-a93b-d2c4f91a7c37"
      },
      "execution_count": null,
      "outputs": [
        {
          "output_type": "stream",
          "name": "stdout",
          "text": [
            "ingles 100.0 %\n"
          ]
        }
      ]
    },
    {
      "cell_type": "code",
      "source": [
        "resultados_espanhol = atribui_idioma(esp_teste)\n",
        "taxa_espanhol = (resultados_espanhol.count(\"espanhol\")/len(resultados_espanhol))*100\n",
        "print(\"espanhol\", taxa_espanhol, \"%\")"
      ],
      "metadata": {
        "id": "d4MUt_eoOUZJ",
        "colab": {
          "base_uri": "https://localhost:8080/"
        },
        "outputId": "989a5474-b475-4a9e-806d-7c74a8e05353"
      },
      "execution_count": null,
      "outputs": [
        {
          "output_type": "stream",
          "name": "stdout",
          "text": [
            "espanhol 97.0 %\n"
          ]
        }
      ]
    },
    {
      "cell_type": "code",
      "source": [
        "palavra = []\n",
        "palavra.append(input(\"Digite uma palavra: \"))\n",
        "teste = atribui_idioma(palavra)\n",
        "print(\"Idioma:\", str(teste).replace(\"[\", \"\").replace(\"]\", \"\").replace(\"'\", \"\"))"
      ],
      "metadata": {
        "id": "pAJ7Ftj1gJuS"
      },
      "execution_count": null,
      "outputs": []
    }
  ]
}